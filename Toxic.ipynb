{
 "cells": [
  {
   "cell_type": "code",
   "execution_count": 1,
   "metadata": {},
   "outputs": [],
   "source": [
    "import pandas as pd\n",
    "import numpy as np\n",
    "%matplotlib inline\n",
    "import matplotlib.pyplot as plt\n"
   ]
  },
  {
   "cell_type": "markdown",
   "metadata": {},
   "source": [
    "While searching for a data set I found one that quantifies the amount of toxic is released into different enviornments. This is a good data set because it will help findout the most safe city to live in based off of the total toxic that is released. I will be focussing on the amount of toxic in the water and findout where the best place to live is based off of that. \n",
    "\n",
    "Link:\n",
    "https://data.wprdc.org/dataset/toxic-release-inventory/resource/c9baaa77-2dc5-494c-a2ce-f90db9106df2"
   ]
  },
  {
   "cell_type": "code",
   "execution_count": 2,
   "metadata": {},
   "outputs": [],
   "source": [
    "toxic = pd.read_csv(\"toxic.csv\")"
   ]
  },
  {
   "cell_type": "code",
   "execution_count": 3,
   "metadata": {},
   "outputs": [
    {
     "data": {
      "text/html": [
       "<div>\n",
       "<style scoped>\n",
       "    .dataframe tbody tr th:only-of-type {\n",
       "        vertical-align: middle;\n",
       "    }\n",
       "\n",
       "    .dataframe tbody tr th {\n",
       "        vertical-align: top;\n",
       "    }\n",
       "\n",
       "    .dataframe thead th {\n",
       "        text-align: right;\n",
       "    }\n",
       "</style>\n",
       "<table border=\"1\" class=\"dataframe\">\n",
       "  <thead>\n",
       "    <tr style=\"text-align: right;\">\n",
       "      <th></th>\n",
       "      <th>TRI_FACILITY_ID</th>\n",
       "      <th>DOC_CTRL_NUM</th>\n",
       "      <th>FACILITY_NAME</th>\n",
       "      <th>STREET_ADDRESS</th>\n",
       "      <th>CITY_NAME</th>\n",
       "      <th>COUNTY_NAME</th>\n",
       "      <th>STATE_COUNTY_FIPS_CODE</th>\n",
       "      <th>STATE_ABBR</th>\n",
       "      <th>ZIP_CODE</th>\n",
       "      <th>REGION</th>\n",
       "      <th>...</th>\n",
       "      <th>RELEASE_RANGE_CODE</th>\n",
       "      <th>TOTAL_RELEASE</th>\n",
       "      <th>REL_EST_AMT</th>\n",
       "      <th>RELEASE_NA</th>\n",
       "      <th>RELEASE_BASIS_EST_CODE</th>\n",
       "      <th>WATER_SEQUENCE_NUM</th>\n",
       "      <th>STREAM_NAME</th>\n",
       "      <th>STORM_WATER_NA</th>\n",
       "      <th>STORM_WATER_PERCENT</th>\n",
       "      <th>REACH_CODE</th>\n",
       "    </tr>\n",
       "  </thead>\n",
       "  <tbody>\n",
       "    <tr>\n",
       "      <th>0</th>\n",
       "      <td>15122SFTYK650NO</td>\n",
       "      <td>1309207547023</td>\n",
       "      <td>SAFETY-KLEEN SYSTEMS WEST MIFFLIN (WMP)</td>\n",
       "      <td>650 NOBLE DR</td>\n",
       "      <td>WEST MIFFLIN</td>\n",
       "      <td>ALLEGHENY</td>\n",
       "      <td>42003</td>\n",
       "      <td>PA</td>\n",
       "      <td>15122</td>\n",
       "      <td>3</td>\n",
       "      <td>...</td>\n",
       "      <td>NaN</td>\n",
       "      <td>NaN</td>\n",
       "      <td>0.0</td>\n",
       "      <td>1</td>\n",
       "      <td>NaN</td>\n",
       "      <td>1</td>\n",
       "      <td>NaN</td>\n",
       "      <td>0</td>\n",
       "      <td>NaN</td>\n",
       "      <td>NaN</td>\n",
       "    </tr>\n",
       "    <tr>\n",
       "      <th>1</th>\n",
       "      <td>15025SSCLR400ST</td>\n",
       "      <td>1307205668609</td>\n",
       "      <td>USS-CLAIRTON PLANT</td>\n",
       "      <td>400 STATE ST MS 71</td>\n",
       "      <td>CLAIRTON</td>\n",
       "      <td>ALLEGHENY</td>\n",
       "      <td>42003</td>\n",
       "      <td>PA</td>\n",
       "      <td>15025</td>\n",
       "      <td>3</td>\n",
       "      <td>...</td>\n",
       "      <td>NaN</td>\n",
       "      <td>2500000.0</td>\n",
       "      <td>2500000.0</td>\n",
       "      <td>0</td>\n",
       "      <td>M1</td>\n",
       "      <td>1</td>\n",
       "      <td>MONONGAHELA RIVER</td>\n",
       "      <td>1</td>\n",
       "      <td>NaN</td>\n",
       "      <td>NaN</td>\n",
       "    </tr>\n",
       "    <tr>\n",
       "      <th>2</th>\n",
       "      <td>15201XXNCM34THS</td>\n",
       "      <td>1394080093471</td>\n",
       "      <td>EXXON CO USA PITTSBURGH PLANT</td>\n",
       "      <td>100 35TH ST</td>\n",
       "      <td>PITTSBURGH</td>\n",
       "      <td>ALLEGHENY</td>\n",
       "      <td>42003</td>\n",
       "      <td>PA</td>\n",
       "      <td>15201</td>\n",
       "      <td>3</td>\n",
       "      <td>...</td>\n",
       "      <td>NaN</td>\n",
       "      <td>NaN</td>\n",
       "      <td>0.0</td>\n",
       "      <td>0</td>\n",
       "      <td>NaN</td>\n",
       "      <td>2</td>\n",
       "      <td>NaN</td>\n",
       "      <td>0</td>\n",
       "      <td>NaN</td>\n",
       "      <td>NaN</td>\n",
       "    </tr>\n",
       "    <tr>\n",
       "      <th>3</th>\n",
       "      <td>15226MTTHW1315W</td>\n",
       "      <td>1303201613510</td>\n",
       "      <td>MATTHEWS INTERNATIONAL CORP</td>\n",
       "      <td>1315 W LIBERTY AVE</td>\n",
       "      <td>PITTSBURGH</td>\n",
       "      <td>ALLEGHENY</td>\n",
       "      <td>42003</td>\n",
       "      <td>PA</td>\n",
       "      <td>15226</td>\n",
       "      <td>3</td>\n",
       "      <td>...</td>\n",
       "      <td>NaN</td>\n",
       "      <td>NaN</td>\n",
       "      <td>0.0</td>\n",
       "      <td>0</td>\n",
       "      <td>NaN</td>\n",
       "      <td>1</td>\n",
       "      <td>NaN</td>\n",
       "      <td>0</td>\n",
       "      <td>NaN</td>\n",
       "      <td>NaN</td>\n",
       "    </tr>\n",
       "    <tr>\n",
       "      <th>4</th>\n",
       "      <td>15051MRCNRSTATE</td>\n",
       "      <td>1395090491388</td>\n",
       "      <td>KINDER MORGAN TRANSMIX CO LLC</td>\n",
       "      <td>918 RT 910</td>\n",
       "      <td>INDIANOLA</td>\n",
       "      <td>ALLEGHENY</td>\n",
       "      <td>42003</td>\n",
       "      <td>PA</td>\n",
       "      <td>15051</td>\n",
       "      <td>3</td>\n",
       "      <td>...</td>\n",
       "      <td>NaN</td>\n",
       "      <td>7.0</td>\n",
       "      <td>7.0</td>\n",
       "      <td>0</td>\n",
       "      <td>O</td>\n",
       "      <td>1</td>\n",
       "      <td>DEER CREEK</td>\n",
       "      <td>1</td>\n",
       "      <td>NaN</td>\n",
       "      <td>NaN</td>\n",
       "    </tr>\n",
       "    <tr>\n",
       "      <th>5</th>\n",
       "      <td>15051MRCNRSTATE</td>\n",
       "      <td>1395090491388</td>\n",
       "      <td>KINDER MORGAN TRANSMIX CO LLC</td>\n",
       "      <td>918 RT 910</td>\n",
       "      <td>INDIANOLA</td>\n",
       "      <td>ALLEGHENY</td>\n",
       "      <td>42003</td>\n",
       "      <td>PA</td>\n",
       "      <td>15051</td>\n",
       "      <td>3</td>\n",
       "      <td>...</td>\n",
       "      <td>NaN</td>\n",
       "      <td>NaN</td>\n",
       "      <td>0.0</td>\n",
       "      <td>0</td>\n",
       "      <td>NaN</td>\n",
       "      <td>2</td>\n",
       "      <td>NaN</td>\n",
       "      <td>0</td>\n",
       "      <td>NaN</td>\n",
       "      <td>NaN</td>\n",
       "    </tr>\n",
       "    <tr>\n",
       "      <th>6</th>\n",
       "      <td>15017GNRLLMAYER</td>\n",
       "      <td>1301150384737</td>\n",
       "      <td>GE CO. BRIDGEVILLE GLASS PLANT</td>\n",
       "      <td>540 MAYER ST</td>\n",
       "      <td>BRIDGEVILLE</td>\n",
       "      <td>ALLEGHENY</td>\n",
       "      <td>42003</td>\n",
       "      <td>PA</td>\n",
       "      <td>15017</td>\n",
       "      <td>3</td>\n",
       "      <td>...</td>\n",
       "      <td>NaN</td>\n",
       "      <td>23.0</td>\n",
       "      <td>23.0</td>\n",
       "      <td>0</td>\n",
       "      <td>M</td>\n",
       "      <td>1</td>\n",
       "      <td>CHARTIERS CREEK</td>\n",
       "      <td>0</td>\n",
       "      <td>100.0</td>\n",
       "      <td>NaN</td>\n",
       "    </tr>\n",
       "    <tr>\n",
       "      <th>7</th>\n",
       "      <td>15025RSTCH400ST</td>\n",
       "      <td>1389035122670</td>\n",
       "      <td>KOPPERS INC CLAIRTON TAR PLANT</td>\n",
       "      <td>300 N STATE ST</td>\n",
       "      <td>CLAIRTON</td>\n",
       "      <td>ALLEGHENY</td>\n",
       "      <td>42003</td>\n",
       "      <td>PA</td>\n",
       "      <td>15025</td>\n",
       "      <td>3</td>\n",
       "      <td>...</td>\n",
       "      <td>NaN</td>\n",
       "      <td>NaN</td>\n",
       "      <td>0.0</td>\n",
       "      <td>1</td>\n",
       "      <td>NaN</td>\n",
       "      <td>3</td>\n",
       "      <td>NaN</td>\n",
       "      <td>0</td>\n",
       "      <td>NaN</td>\n",
       "      <td>NaN</td>\n",
       "    </tr>\n",
       "    <tr>\n",
       "      <th>8</th>\n",
       "      <td>15025RSTCH400ST</td>\n",
       "      <td>1389035122744</td>\n",
       "      <td>KOPPERS INC CLAIRTON TAR PLANT</td>\n",
       "      <td>300 N STATE ST</td>\n",
       "      <td>CLAIRTON</td>\n",
       "      <td>ALLEGHENY</td>\n",
       "      <td>42003</td>\n",
       "      <td>PA</td>\n",
       "      <td>15025</td>\n",
       "      <td>3</td>\n",
       "      <td>...</td>\n",
       "      <td>NaN</td>\n",
       "      <td>0.0</td>\n",
       "      <td>0.0</td>\n",
       "      <td>0</td>\n",
       "      <td>O</td>\n",
       "      <td>1</td>\n",
       "      <td>PETERS CREEK</td>\n",
       "      <td>0</td>\n",
       "      <td>NaN</td>\n",
       "      <td>NaN</td>\n",
       "    </tr>\n",
       "    <tr>\n",
       "      <th>9</th>\n",
       "      <td>15116BLLCH1114W</td>\n",
       "      <td>1392065371407</td>\n",
       "      <td>RANBAR TECHNOLOGY INC</td>\n",
       "      <td>1114 WILLIAM FLINN HWY</td>\n",
       "      <td>GLENSHAW</td>\n",
       "      <td>ALLEGHENY</td>\n",
       "      <td>42003</td>\n",
       "      <td>PA</td>\n",
       "      <td>15116</td>\n",
       "      <td>3</td>\n",
       "      <td>...</td>\n",
       "      <td>NaN</td>\n",
       "      <td>NaN</td>\n",
       "      <td>0.0</td>\n",
       "      <td>0</td>\n",
       "      <td>NaN</td>\n",
       "      <td>1</td>\n",
       "      <td>NaN</td>\n",
       "      <td>0</td>\n",
       "      <td>NaN</td>\n",
       "      <td>NaN</td>\n",
       "    </tr>\n",
       "  </tbody>\n",
       "</table>\n",
       "<p>10 rows × 43 columns</p>\n",
       "</div>"
      ],
      "text/plain": [
       "   TRI_FACILITY_ID   DOC_CTRL_NUM                            FACILITY_NAME  \\\n",
       "0  15122SFTYK650NO  1309207547023  SAFETY-KLEEN SYSTEMS WEST MIFFLIN (WMP)   \n",
       "1  15025SSCLR400ST  1307205668609                       USS-CLAIRTON PLANT   \n",
       "2  15201XXNCM34THS  1394080093471            EXXON CO USA PITTSBURGH PLANT   \n",
       "3  15226MTTHW1315W  1303201613510              MATTHEWS INTERNATIONAL CORP   \n",
       "4  15051MRCNRSTATE  1395090491388            KINDER MORGAN TRANSMIX CO LLC   \n",
       "5  15051MRCNRSTATE  1395090491388            KINDER MORGAN TRANSMIX CO LLC   \n",
       "6  15017GNRLLMAYER  1301150384737           GE CO. BRIDGEVILLE GLASS PLANT   \n",
       "7  15025RSTCH400ST  1389035122670           KOPPERS INC CLAIRTON TAR PLANT   \n",
       "8  15025RSTCH400ST  1389035122744           KOPPERS INC CLAIRTON TAR PLANT   \n",
       "9  15116BLLCH1114W  1392065371407                    RANBAR TECHNOLOGY INC   \n",
       "\n",
       "           STREET_ADDRESS     CITY_NAME COUNTY_NAME  STATE_COUNTY_FIPS_CODE  \\\n",
       "0            650 NOBLE DR  WEST MIFFLIN   ALLEGHENY                   42003   \n",
       "1      400 STATE ST MS 71      CLAIRTON   ALLEGHENY                   42003   \n",
       "2             100 35TH ST    PITTSBURGH   ALLEGHENY                   42003   \n",
       "3      1315 W LIBERTY AVE    PITTSBURGH   ALLEGHENY                   42003   \n",
       "4              918 RT 910     INDIANOLA   ALLEGHENY                   42003   \n",
       "5              918 RT 910     INDIANOLA   ALLEGHENY                   42003   \n",
       "6            540 MAYER ST   BRIDGEVILLE   ALLEGHENY                   42003   \n",
       "7          300 N STATE ST      CLAIRTON   ALLEGHENY                   42003   \n",
       "8          300 N STATE ST      CLAIRTON   ALLEGHENY                   42003   \n",
       "9  1114 WILLIAM FLINN HWY      GLENSHAW   ALLEGHENY                   42003   \n",
       "\n",
       "  STATE_ABBR  ZIP_CODE  REGION  ...  RELEASE_RANGE_CODE TOTAL_RELEASE  \\\n",
       "0         PA     15122       3  ...                 NaN           NaN   \n",
       "1         PA     15025       3  ...                 NaN     2500000.0   \n",
       "2         PA     15201       3  ...                 NaN           NaN   \n",
       "3         PA     15226       3  ...                 NaN           NaN   \n",
       "4         PA     15051       3  ...                 NaN           7.0   \n",
       "5         PA     15051       3  ...                 NaN           NaN   \n",
       "6         PA     15017       3  ...                 NaN          23.0   \n",
       "7         PA     15025       3  ...                 NaN           NaN   \n",
       "8         PA     15025       3  ...                 NaN           0.0   \n",
       "9         PA     15116       3  ...                 NaN           NaN   \n",
       "\n",
       "   REL_EST_AMT RELEASE_NA RELEASE_BASIS_EST_CODE WATER_SEQUENCE_NUM  \\\n",
       "0          0.0          1                    NaN                  1   \n",
       "1    2500000.0          0                     M1                  1   \n",
       "2          0.0          0                    NaN                  2   \n",
       "3          0.0          0                    NaN                  1   \n",
       "4          7.0          0                      O                  1   \n",
       "5          0.0          0                    NaN                  2   \n",
       "6         23.0          0                      M                  1   \n",
       "7          0.0          1                    NaN                  3   \n",
       "8          0.0          0                      O                  1   \n",
       "9          0.0          0                    NaN                  1   \n",
       "\n",
       "         STREAM_NAME  STORM_WATER_NA  STORM_WATER_PERCENT REACH_CODE  \n",
       "0                NaN               0                  NaN        NaN  \n",
       "1  MONONGAHELA RIVER               1                  NaN        NaN  \n",
       "2                NaN               0                  NaN        NaN  \n",
       "3                NaN               0                  NaN        NaN  \n",
       "4         DEER CREEK               1                  NaN        NaN  \n",
       "5                NaN               0                  NaN        NaN  \n",
       "6    CHARTIERS CREEK               0                100.0        NaN  \n",
       "7                NaN               0                  NaN        NaN  \n",
       "8       PETERS CREEK               0                  NaN        NaN  \n",
       "9                NaN               0                  NaN        NaN  \n",
       "\n",
       "[10 rows x 43 columns]"
      ]
     },
     "execution_count": 3,
     "metadata": {},
     "output_type": "execute_result"
    }
   ],
   "source": [
    "toxic.head(10)"
   ]
  },
  {
   "cell_type": "code",
   "execution_count": 4,
   "metadata": {},
   "outputs": [
    {
     "data": {
      "text/plain": [
       "13395.222815396719"
      ]
     },
     "execution_count": 4,
     "metadata": {},
     "output_type": "execute_result"
    }
   ],
   "source": [
    "toxic[\"TOTAL_RELEASE\"].mean()"
   ]
  },
  {
   "cell_type": "code",
   "execution_count": 5,
   "metadata": {},
   "outputs": [
    {
     "name": "stdout",
     "output_type": "stream",
     "text": [
      "There are 48 unique cities that were recorded\n"
     ]
    }
   ],
   "source": [
    "n = 0\n",
    "uniq = toxic['CITY_NAME'].unique()\n",
    "for a in uniq:\n",
    "    n = n + 1\n",
    "n = str(n)\n",
    "print(\"There are \" + n + \" unique cities that were recorded\")"
   ]
  },
  {
   "cell_type": "code",
   "execution_count": 6,
   "metadata": {},
   "outputs": [
    {
     "data": {
      "text/plain": [
       "{'WEST MIFFLIN': 470,\n",
       " 'CLAIRTON': 1829,\n",
       " 'PITTSBURGH': 4920,\n",
       " 'INDIANOLA': 353,\n",
       " 'BRIDGEVILLE': 737,\n",
       " 'GLENSHAW': 183,\n",
       " 'LEETSDALE': 228,\n",
       " 'BRACKENRIDGE': 531,\n",
       " 'CARNEGIE': 228,\n",
       " 'SPRINGDALE': 1371,\n",
       " 'WEST ELIZABETH': 525,\n",
       " 'DUQUESNE': 54,\n",
       " 'CHESWICK': 75,\n",
       " 'BRADDOCK': 680,\n",
       " 'TURTLE CREEK': 82,\n",
       " 'OAKMONT': 185,\n",
       " 'MONROEVILLE': 108,\n",
       " 'MUNHALL': 154,\n",
       " 'MC KEESPORT': 327,\n",
       " 'SOUTH PARK': 2,\n",
       " 'CORAOPOLIS': 363,\n",
       " 'MC KEES ROCKS': 163,\n",
       " 'SEWICKLEY': 171,\n",
       " 'CREIGHTON': 113,\n",
       " 'VERONA': 120,\n",
       " 'EAST PITTSBURGH': 36,\n",
       " 'HARWICK': 314,\n",
       " 'JEFFERSON HILLS': 146,\n",
       " 'WILMERDING': 78,\n",
       " 'BAKERSTOWN': 91,\n",
       " 'OAKDALE': 124,\n",
       " 'NATRONA HEIGHTS': 172,\n",
       " 'HOMESTEAD': 46,\n",
       " 'MC DONALD': 95,\n",
       " 'HEIDELBERG': 37,\n",
       " 'BUNOLA': 120,\n",
       " 'GIBSONIA': 71,\n",
       " 'MCKEESPORT': 33,\n",
       " 'SHARPSBURG': 6,\n",
       " 'TARENTUM': 3,\n",
       " 'GLASSPORT': 55,\n",
       " 'CLINTON': 12,\n",
       " 'RANKIN': 19,\n",
       " 'LIBERTY BOROUGH': 19,\n",
       " 'DRAVOSBURG': 7,\n",
       " 'NEVILLE ISLAND': 5,\n",
       " 'MONONGAHELA': 1,\n",
       " 'BLAWNOX': 10}"
      ]
     },
     "execution_count": 6,
     "metadata": {},
     "output_type": "execute_result"
    }
   ],
   "source": [
    "toxicC = {}\n",
    "n=0\n",
    "n1=0\n",
    "n2=1\n",
    "for row in toxic.iterrows():\n",
    "    n1 = toxic.iloc[n,4] \n",
    "    if n1 not in toxicC:\n",
    "        toxicC[n1] = n2\n",
    "    elif n1 in toxicC:\n",
    "        toxicC[n1] = toxicC[n1] + n2\n",
    "    n = n+1\n",
    "\n",
    "toxicC"
   ]
  },
  {
   "cell_type": "markdown",
   "metadata": {},
   "source": [
    "The most recorded city is very easily Pittsburgh which is recorded almost 5 thousand times. Where as the least recorded are places like Tarentum, Nevile Island, or Monogahela that are not even counted in the double digits. This is a huge range in the number of places recorded however because I will be taking the average later that differences importance will decrease. I would entirely take out these data points but for the sake of finding the best city I think it is necesary to use every single data point that I hae available so I will still be using these cities. At the end if these data points are outliars I will say so then and recognize this as one possible reason. "
   ]
  },
  {
   "cell_type": "code",
   "execution_count": 7,
   "metadata": {},
   "outputs": [
    {
     "data": {
      "text/plain": [
       "{'WEST MIFFLIN': 488905.77999999997,\n",
       " 'CLAIRTON': 47010225.57000003,\n",
       " 'PITTSBURGH': 2453163.460000001,\n",
       " 'INDIANOLA': 1537.5500000000002,\n",
       " 'BRIDGEVILLE': 5168.189999999999,\n",
       " 'GLENSHAW': 0.0,\n",
       " 'LEETSDALE': 54784.14000000001,\n",
       " 'BRACKENRIDGE': 8437507.0,\n",
       " 'CARNEGIE': 812.0,\n",
       " 'SPRINGDALE': 29612.1857,\n",
       " 'WEST ELIZABETH': 15861.84,\n",
       " 'DUQUESNE': 0.0,\n",
       " 'CHESWICK': 0.0,\n",
       " 'BRADDOCK': 1095193.9900000002,\n",
       " 'TURTLE CREEK': 0.0,\n",
       " 'OAKMONT': 524.0,\n",
       " 'MONROEVILLE': 0.0,\n",
       " 'MUNHALL': 0,\n",
       " 'MC KEESPORT': 0.0,\n",
       " 'SOUTH PARK': 0,\n",
       " 'CORAOPOLIS': 1438.3000000000002,\n",
       " 'MC KEES ROCKS': 0.0,\n",
       " 'SEWICKLEY': 500.0,\n",
       " 'CREIGHTON': 0.0,\n",
       " 'VERONA': 0.0,\n",
       " 'EAST PITTSBURGH': 0,\n",
       " 'HARWICK': 0,\n",
       " 'JEFFERSON HILLS': 2.3,\n",
       " 'WILMERDING': 0.0,\n",
       " 'BAKERSTOWN': 0.0,\n",
       " 'OAKDALE': 0,\n",
       " 'NATRONA HEIGHTS': 0,\n",
       " 'HOMESTEAD': 110.0,\n",
       " 'MC DONALD': 0,\n",
       " 'HEIDELBERG': 0.0,\n",
       " 'BUNOLA': 0.0,\n",
       " 'GIBSONIA': 0,\n",
       " 'MCKEESPORT': 0.0,\n",
       " 'SHARPSBURG': 0,\n",
       " 'TARENTUM': 0,\n",
       " 'GLASSPORT': 0,\n",
       " 'CLINTON': 0,\n",
       " 'RANKIN': 0,\n",
       " 'LIBERTY BOROUGH': 0.0,\n",
       " 'DRAVOSBURG': 0.0,\n",
       " 'NEVILLE ISLAND': 0,\n",
       " 'MONONGAHELA': 0,\n",
       " 'BLAWNOX': 0}"
      ]
     },
     "execution_count": 7,
     "metadata": {},
     "output_type": "execute_result"
    }
   ],
   "source": [
    "import math\n",
    "toxicA = {}\n",
    "n=0\n",
    "n1=0\n",
    "n2=0\n",
    "for row in toxic.iterrows():\n",
    "    n1 = toxic.iloc[n,4]\n",
    "    n2 = toxic.iloc[n,34]\n",
    "    if math.isnan(n2):\n",
    "        n2 = 0\n",
    "    if n1 not in toxicA:\n",
    "        toxicA[n1] = n2\n",
    "    elif n1 in toxicA:\n",
    "        toxicA[n1] = toxicA[n1] + n2\n",
    "    n = n+1\n",
    "toxicA    \n",
    "\n"
   ]
  },
  {
   "cell_type": "code",
   "execution_count": 20,
   "metadata": {},
   "outputs": [],
   "source": [
    "aveTox = dict((k, float(toxicA[k]) / toxicC[k]) for k in toxicC)\n",
    "\n",
    "\n"
   ]
  },
  {
   "cell_type": "code",
   "execution_count": 21,
   "metadata": {},
   "outputs": [],
   "source": [
    "toxPlot = pd.Series(aveTox)\n"
   ]
  },
  {
   "cell_type": "code",
   "execution_count": 22,
   "metadata": {},
   "outputs": [
    {
     "data": {
      "text/plain": [
       "WEST MIFFLIN        1040.225064\n",
       "CLAIRTON           25702.693040\n",
       "PITTSBURGH           498.610459\n",
       "INDIANOLA              4.355666\n",
       "BRIDGEVILLE            7.012469\n",
       "GLENSHAW               0.000000\n",
       "LEETSDALE            240.281316\n",
       "BRACKENRIDGE       15889.843691\n",
       "CARNEGIE               3.561404\n",
       "SPRINGDALE            21.598968\n",
       "WEST ELIZABETH        30.213029\n",
       "DUQUESNE               0.000000\n",
       "CHESWICK               0.000000\n",
       "BRADDOCK            1610.579397\n",
       "TURTLE CREEK           0.000000\n",
       "OAKMONT                2.832432\n",
       "MONROEVILLE            0.000000\n",
       "MUNHALL                0.000000\n",
       "MC KEESPORT            0.000000\n",
       "SOUTH PARK             0.000000\n",
       "CORAOPOLIS             3.962259\n",
       "MC KEES ROCKS          0.000000\n",
       "SEWICKLEY              2.923977\n",
       "CREIGHTON              0.000000\n",
       "VERONA                 0.000000\n",
       "EAST PITTSBURGH        0.000000\n",
       "HARWICK                0.000000\n",
       "JEFFERSON HILLS        0.015753\n",
       "WILMERDING             0.000000\n",
       "BAKERSTOWN             0.000000\n",
       "OAKDALE                0.000000\n",
       "NATRONA HEIGHTS        0.000000\n",
       "HOMESTEAD              2.391304\n",
       "MC DONALD              0.000000\n",
       "HEIDELBERG             0.000000\n",
       "BUNOLA                 0.000000\n",
       "GIBSONIA               0.000000\n",
       "MCKEESPORT             0.000000\n",
       "SHARPSBURG             0.000000\n",
       "TARENTUM               0.000000\n",
       "GLASSPORT              0.000000\n",
       "CLINTON                0.000000\n",
       "RANKIN                 0.000000\n",
       "LIBERTY BOROUGH        0.000000\n",
       "DRAVOSBURG             0.000000\n",
       "NEVILLE ISLAND         0.000000\n",
       "MONONGAHELA            0.000000\n",
       "BLAWNOX                0.000000\n",
       "dtype: float64"
      ]
     },
     "execution_count": 22,
     "metadata": {},
     "output_type": "execute_result"
    }
   ],
   "source": [
    "toxPlot"
   ]
  },
  {
   "cell_type": "code",
   "execution_count": 23,
   "metadata": {},
   "outputs": [
    {
     "data": {
      "text/plain": [
       "<matplotlib.axes._subplots.AxesSubplot at 0x7fb0a00e1160>"
      ]
     },
     "execution_count": 23,
     "metadata": {},
     "output_type": "execute_result"
    },
    {
     "data": {
      "image/png": "[encoded data removed]",
      "text/plain": [
       "<Figure size 432x288 with 1 Axes>"
      ]
     },
     "metadata": {
      "needs_background": "light"
     },
     "output_type": "display_data"
    }
   ],
   "source": [
    "toxPlot.plot(kind = 'bar')"
   ]
  },
  {
   "cell_type": "markdown",
   "metadata": {},
   "source": [
    "There are too many data points for this graph to be clear, because of this I will remove all the data points with 0 as the result because thats the most common result along with being the goal for this index. Therefore all those with 0 as the result are the cleanest however because of the amount of them I will now be finding the next best city"
   ]
  },
  {
   "cell_type": "code",
   "execution_count": 24,
   "metadata": {},
   "outputs": [
    {
     "data": {
      "text/plain": [
       "{'WEST MIFFLIN': 1040.2250638297871,\n",
       " 'CLAIRTON': 25702.693039912538,\n",
       " 'PITTSBURGH': 498.61045934959367,\n",
       " 'INDIANOLA': 4.355665722379604,\n",
       " 'BRIDGEVILLE': 7.012469470827678,\n",
       " 'LEETSDALE': 240.28131578947372,\n",
       " 'BRACKENRIDGE': 15889.843691148775,\n",
       " 'CARNEGIE': 3.56140350877193,\n",
       " 'SPRINGDALE': 21.598968417213715,\n",
       " 'WEST ELIZABETH': 30.213028571428573,\n",
       " 'BRADDOCK': 1610.5793970588238,\n",
       " 'OAKMONT': 2.8324324324324324,\n",
       " 'CORAOPOLIS': 3.9622589531680448,\n",
       " 'SEWICKLEY': 2.9239766081871346,\n",
       " 'JEFFERSON HILLS': 0.015753424657534244,\n",
       " 'HOMESTEAD': 2.391304347826087}"
      ]
     },
     "execution_count": 24,
     "metadata": {},
     "output_type": "execute_result"
    }
   ],
   "source": [
    "delete = []\n",
    "for row in aveTox:\n",
    "    if aveTox[row] == 0:\n",
    "        delete.append(row)\n",
    "for row in delete:\n",
    "    del aveTox[row]\n",
    "\n",
    "aveTox"
   ]
  },
  {
   "cell_type": "code",
   "execution_count": 25,
   "metadata": {},
   "outputs": [],
   "source": [
    "toxPlot2 = pd.Series(aveTox)"
   ]
  },
  {
   "cell_type": "code",
   "execution_count": 26,
   "metadata": {},
   "outputs": [
    {
     "data": {
      "text/plain": [
       "WEST MIFFLIN        1040.225064\n",
       "CLAIRTON           25702.693040\n",
       "PITTSBURGH           498.610459\n",
       "INDIANOLA              4.355666\n",
       "BRIDGEVILLE            7.012469\n",
       "LEETSDALE            240.281316\n",
       "BRACKENRIDGE       15889.843691\n",
       "CARNEGIE               3.561404\n",
       "SPRINGDALE            21.598968\n",
       "WEST ELIZABETH        30.213029\n",
       "BRADDOCK            1610.579397\n",
       "OAKMONT                2.832432\n",
       "CORAOPOLIS             3.962259\n",
       "SEWICKLEY              2.923977\n",
       "JEFFERSON HILLS        0.015753\n",
       "HOMESTEAD              2.391304\n",
       "dtype: float64"
      ]
     },
     "execution_count": 26,
     "metadata": {},
     "output_type": "execute_result"
    }
   ],
   "source": [
    "toxPlot2"
   ]
  },
  {
   "cell_type": "code",
   "execution_count": 27,
   "metadata": {},
   "outputs": [
    {
     "data": {
      "text/plain": [
       "<matplotlib.axes._subplots.AxesSubplot at 0x7fb0a013aa60>"
      ]
     },
     "execution_count": 27,
     "metadata": {},
     "output_type": "execute_result"
    },
    {
     "data": {
      "image/png": "[encoded data removed]",
      "text/plain": [
       "<Figure size 432x288 with 1 Axes>"
      ]
     },
     "metadata": {
      "needs_background": "light"
     },
     "output_type": "display_data"
    }
   ],
   "source": [
    "toxPlot2.plot(kind = 'bar')"
   ]
  },
  {
   "cell_type": "markdown",
   "metadata": {},
   "source": [
    "Because of these two massive outliars its skewing the graph massively making most of the other data points look like nothing. These two data points are also the only two data points above the average therefore they are obviously not the best in the amount of toxic released"
   ]
  },
  {
   "cell_type": "code",
   "execution_count": 33,
   "metadata": {},
   "outputs": [],
   "source": [
    "del aveTox['CLAIRTON']\n",
    "del aveTox['BRACKENRIDGE']"
   ]
  },
  {
   "cell_type": "code",
   "execution_count": 34,
   "metadata": {},
   "outputs": [
    {
     "data": {
      "text/plain": [
       "{'WEST MIFFLIN': 1040.2250638297871,\n",
       " 'PITTSBURGH': 498.61045934959367,\n",
       " 'INDIANOLA': 4.355665722379604,\n",
       " 'BRIDGEVILLE': 7.012469470827678,\n",
       " 'LEETSDALE': 240.28131578947372,\n",
       " 'CARNEGIE': 3.56140350877193,\n",
       " 'SPRINGDALE': 21.598968417213715,\n",
       " 'WEST ELIZABETH': 30.213028571428573,\n",
       " 'BRADDOCK': 1610.5793970588238,\n",
       " 'OAKMONT': 2.8324324324324324,\n",
       " 'CORAOPOLIS': 3.9622589531680448,\n",
       " 'SEWICKLEY': 2.9239766081871346,\n",
       " 'JEFFERSON HILLS': 0.015753424657534244,\n",
       " 'HOMESTEAD': 2.391304347826087}"
      ]
     },
     "execution_count": 34,
     "metadata": {},
     "output_type": "execute_result"
    }
   ],
   "source": [
    "aveTox"
   ]
  },
  {
   "cell_type": "code",
   "execution_count": 35,
   "metadata": {},
   "outputs": [],
   "source": [
    "toxPlot3 = pd.Series(aveTox)"
   ]
  },
  {
   "cell_type": "code",
   "execution_count": 36,
   "metadata": {},
   "outputs": [
    {
     "data": {
      "text/plain": [
       "WEST MIFFLIN       1040.225064\n",
       "PITTSBURGH          498.610459\n",
       "INDIANOLA             4.355666\n",
       "BRIDGEVILLE           7.012469\n",
       "LEETSDALE           240.281316\n",
       "CARNEGIE              3.561404\n",
       "SPRINGDALE           21.598968\n",
       "WEST ELIZABETH       30.213029\n",
       "BRADDOCK           1610.579397\n",
       "OAKMONT               2.832432\n",
       "CORAOPOLIS            3.962259\n",
       "SEWICKLEY             2.923977\n",
       "JEFFERSON HILLS       0.015753\n",
       "HOMESTEAD             2.391304\n",
       "dtype: float64"
      ]
     },
     "execution_count": 36,
     "metadata": {},
     "output_type": "execute_result"
    }
   ],
   "source": [
    "toxPlot3"
   ]
  },
  {
   "cell_type": "code",
   "execution_count": 37,
   "metadata": {},
   "outputs": [
    {
     "data": {
      "text/plain": [
       "<matplotlib.axes._subplots.AxesSubplot at 0x7fb09feacb20>"
      ]
     },
     "execution_count": 37,
     "metadata": {},
     "output_type": "execute_result"
    },
    {
     "data": {
      "image/png": "[encoded data removed]",
      "text/plain": [
       "<Figure size 432x288 with 1 Axes>"
      ]
     },
     "metadata": {
      "needs_background": "light"
     },
     "output_type": "display_data"
    }
   ],
   "source": [
    "toxPlot3.plot(kind = 'bar')\n",
    "plt.title(\"Toxin Released in Water Comparison\")\n",
    "plt.xlabel(\"Cities\")\n",
    "plt.ylabel(\"Total Released on \")"
   ]
  },
  {
   "cell_type": "code",
   "execution_count": null,
   "metadata": {
    "jupyter": {
     "source_hidden": true
    }
   },
   "outputs": [],
   "source": []
  }
 ],
 "metadata": {
  "kernelspec": {
   "display_name": "Python 3",
   "language": "python",
   "name": "python3"
  },
  "language_info": {
   "codemirror_mode": {
    "name": "ipython",
    "version": 3
   },
   "file_extension": ".py",
   "mimetype": "text/x-python",
   "name": "python",
   "nbconvert_exporter": "python",
   "pygments_lexer": "ipython3",
   "version": "3.8.3"
  }
 },
 "nbformat": 4,
 "nbformat_minor": 4
}
