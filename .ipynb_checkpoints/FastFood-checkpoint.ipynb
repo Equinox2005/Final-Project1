{
 "cells": [
  {
   "cell_type": "code",
   "execution_count": 1,
   "metadata": {},
   "outputs": [],
   "source": [
    "import pandas as pd\n",
    "import numpy as np\n",
    "import matplotlib.pyplot as plt"
   ]
  },
  {
   "cell_type": "markdown",
   "metadata": {},
   "source": [
    "For my dataset, I chose Allegheny County Fast Food Establishments. This dataset tracks the location of fast food restaurants across Allegheny County. I will be using this dataset to tally the number of fast food restaurants in each Pittsburgh neighborhood. In this situation, the neighborhood with the fewest fast food restaurants is the healthiest."
   ]
  },
  {
   "cell_type": "code",
   "execution_count": 2,
   "metadata": {},
   "outputs": [],
   "source": [
    "Food = pd.read_csv(\"fastfoodalleghenycountyupdatexy2.csv\")"
   ]
  },
  {
   "cell_type": "markdown",
   "metadata": {},
   "source": [
    "Here I import the dataset, then display some values so you can get a sense of what the dataset keeps track of."
   ]
  },
  {
   "cell_type": "code",
   "execution_count": 3,
   "metadata": {},
   "outputs": [
    {
     "data": {
      "text/html": [
       "<div>\n",
       "<style scoped>\n",
       "    .dataframe tbody tr th:only-of-type {\n",
       "        vertical-align: middle;\n",
       "    }\n",
       "\n",
       "    .dataframe tbody tr th {\n",
       "        vertical-align: top;\n",
       "    }\n",
       "\n",
       "    .dataframe thead th {\n",
       "        text-align: right;\n",
       "    }\n",
       "</style>\n",
       "<table border=\"1\" class=\"dataframe\">\n",
       "  <thead>\n",
       "    <tr style=\"text-align: right;\">\n",
       "      <th></th>\n",
       "      <th>Name</th>\n",
       "      <th>Legal Name</th>\n",
       "      <th>Start Date</th>\n",
       "      <th>Street Number</th>\n",
       "      <th>Street Name</th>\n",
       "      <th>ZIP Code</th>\n",
       "      <th>Lat</th>\n",
       "      <th>Lon</th>\n",
       "      <th>Category</th>\n",
       "    </tr>\n",
       "  </thead>\n",
       "  <tbody>\n",
       "    <tr>\n",
       "      <th>0</th>\n",
       "      <td>Adrian's Pizza</td>\n",
       "      <td>NaN</td>\n",
       "      <td>11/7/2014</td>\n",
       "      <td>605</td>\n",
       "      <td>Thompson Run Rd</td>\n",
       "      <td>15237</td>\n",
       "      <td>40.539465</td>\n",
       "      <td>-79.990764</td>\n",
       "      <td>Take Out</td>\n",
       "    </tr>\n",
       "    <tr>\n",
       "      <th>1</th>\n",
       "      <td>Adrian's Pizza Express</td>\n",
       "      <td>Rock Enterprises Inc</td>\n",
       "      <td>4/22/2004</td>\n",
       "      <td>7824</td>\n",
       "      <td>Perry Hwy</td>\n",
       "      <td>15237</td>\n",
       "      <td>40.551219</td>\n",
       "      <td>-80.037362</td>\n",
       "      <td>Take Out</td>\n",
       "    </tr>\n",
       "    <tr>\n",
       "      <th>2</th>\n",
       "      <td>Allegheny Sandwich Shop</td>\n",
       "      <td>NaN</td>\n",
       "      <td>2/24/1997</td>\n",
       "      <td>414</td>\n",
       "      <td>Grant St</td>\n",
       "      <td>15219</td>\n",
       "      <td>40.438110</td>\n",
       "      <td>-79.996860</td>\n",
       "      <td>NO Dollar Menu</td>\n",
       "    </tr>\n",
       "    <tr>\n",
       "      <th>3</th>\n",
       "      <td>Allegheny Sandwich Shoppe #3</td>\n",
       "      <td>Allegheny Sandwich Shoppe Inc</td>\n",
       "      <td>11/9/2001</td>\n",
       "      <td>440</td>\n",
       "      <td>Ross St</td>\n",
       "      <td>15219</td>\n",
       "      <td>40.438514</td>\n",
       "      <td>-79.995330</td>\n",
       "      <td>NO Dollar Menu</td>\n",
       "    </tr>\n",
       "    <tr>\n",
       "      <th>4</th>\n",
       "      <td>Amili's Pizzeria</td>\n",
       "      <td>NaN</td>\n",
       "      <td>2/26/1999</td>\n",
       "      <td>1021</td>\n",
       "      <td>Brownsville Rd</td>\n",
       "      <td>15210</td>\n",
       "      <td>40.406082</td>\n",
       "      <td>-79.991863</td>\n",
       "      <td>Take Out</td>\n",
       "    </tr>\n",
       "    <tr>\n",
       "      <th>5</th>\n",
       "      <td>Angelia's Pizza</td>\n",
       "      <td>JNG Pizza LLC</td>\n",
       "      <td>5/11/2004</td>\n",
       "      <td>202</td>\n",
       "      <td>Moon Clinton Rd</td>\n",
       "      <td>15108</td>\n",
       "      <td>40.513135</td>\n",
       "      <td>-80.223406</td>\n",
       "      <td>Take Out</td>\n",
       "    </tr>\n",
       "    <tr>\n",
       "      <th>6</th>\n",
       "      <td>Angelia's Pizza / Chill Frozen Dessserts</td>\n",
       "      <td>Eaton Pizza Inc</td>\n",
       "      <td>10/7/2005</td>\n",
       "      <td>410</td>\n",
       "      <td>Penn Lincoln Dr</td>\n",
       "      <td>15126</td>\n",
       "      <td>40.442466</td>\n",
       "      <td>-80.235992</td>\n",
       "      <td>Take Out</td>\n",
       "    </tr>\n",
       "    <tr>\n",
       "      <th>7</th>\n",
       "      <td>Antney's Ice Cream</td>\n",
       "      <td>The Iceman Inc</td>\n",
       "      <td>4/11/2002</td>\n",
       "      <td>1316</td>\n",
       "      <td>Poplar St</td>\n",
       "      <td>15205</td>\n",
       "      <td>40.427470</td>\n",
       "      <td>-80.052435</td>\n",
       "      <td>Breakfast, Drink, Other</td>\n",
       "    </tr>\n",
       "    <tr>\n",
       "      <th>8</th>\n",
       "      <td>Arby's</td>\n",
       "      <td>Kinco Inc</td>\n",
       "      <td>1/1/1975</td>\n",
       "      <td>1617</td>\n",
       "      <td>Freeport Rd</td>\n",
       "      <td>15065</td>\n",
       "      <td>40.622125</td>\n",
       "      <td>-79.727516</td>\n",
       "      <td>Dollar Menu</td>\n",
       "    </tr>\n",
       "    <tr>\n",
       "      <th>9</th>\n",
       "      <td>Arby's #8</td>\n",
       "      <td>Linell Corporation</td>\n",
       "      <td>12/3/2007</td>\n",
       "      <td>3974</td>\n",
       "      <td>Wm Penn Hwy</td>\n",
       "      <td>15146</td>\n",
       "      <td>40.437988</td>\n",
       "      <td>-79.772845</td>\n",
       "      <td>Dollar Menu</td>\n",
       "    </tr>\n",
       "  </tbody>\n",
       "</table>\n",
       "</div>"
      ],
      "text/plain": [
       "                                       Name                     Legal Name  \\\n",
       "0                            Adrian's Pizza                            NaN   \n",
       "1                    Adrian's Pizza Express           Rock Enterprises Inc   \n",
       "2                   Allegheny Sandwich Shop                            NaN   \n",
       "3              Allegheny Sandwich Shoppe #3  Allegheny Sandwich Shoppe Inc   \n",
       "4                          Amili's Pizzeria                            NaN   \n",
       "5                           Angelia's Pizza                  JNG Pizza LLC   \n",
       "6  Angelia's Pizza / Chill Frozen Dessserts                Eaton Pizza Inc   \n",
       "7                        Antney's Ice Cream                 The Iceman Inc   \n",
       "8                                    Arby's                      Kinco Inc   \n",
       "9                                 Arby's #8             Linell Corporation   \n",
       "\n",
       "  Start Date Street Number      Street Name  ZIP Code        Lat        Lon  \\\n",
       "0  11/7/2014           605  Thompson Run Rd     15237  40.539465 -79.990764   \n",
       "1  4/22/2004          7824        Perry Hwy     15237  40.551219 -80.037362   \n",
       "2  2/24/1997           414         Grant St     15219  40.438110 -79.996860   \n",
       "3  11/9/2001           440          Ross St     15219  40.438514 -79.995330   \n",
       "4  2/26/1999          1021   Brownsville Rd     15210  40.406082 -79.991863   \n",
       "5  5/11/2004           202  Moon Clinton Rd     15108  40.513135 -80.223406   \n",
       "6  10/7/2005           410  Penn Lincoln Dr     15126  40.442466 -80.235992   \n",
       "7  4/11/2002          1316        Poplar St     15205  40.427470 -80.052435   \n",
       "8   1/1/1975          1617      Freeport Rd     15065  40.622125 -79.727516   \n",
       "9  12/3/2007          3974      Wm Penn Hwy     15146  40.437988 -79.772845   \n",
       "\n",
       "                  Category  \n",
       "0                 Take Out  \n",
       "1                 Take Out  \n",
       "2           NO Dollar Menu  \n",
       "3           NO Dollar Menu  \n",
       "4                 Take Out  \n",
       "5                 Take Out  \n",
       "6                 Take Out  \n",
       "7  Breakfast, Drink, Other  \n",
       "8              Dollar Menu  \n",
       "9              Dollar Menu  "
      ]
     },
     "execution_count": 3,
     "metadata": {},
     "output_type": "execute_result"
    }
   ],
   "source": [
    "Food.head(10)"
   ]
  },
  {
   "cell_type": "markdown",
   "metadata": {},
   "source": [
    "Here, this for loop iterates through the dataset, and counts how many times each zip code shows up. The number of times a zip code shows up is the number of fast food restaurants in the zip code."
   ]
  },
  {
   "cell_type": "code",
   "execution_count": 4,
   "metadata": {},
   "outputs": [
    {
     "data": {
      "text/plain": [
       "{15237: 44,\n",
       " 15219: 27,\n",
       " 15210: 11,\n",
       " 15108: 19,\n",
       " 15126: 1,\n",
       " 15205: 36,\n",
       " 15065: 10,\n",
       " 15146: 51,\n",
       " 15216: 11,\n",
       " 15213: 38,\n",
       " 15017: 19,\n",
       " 15136: 12,\n",
       " 15044: 14,\n",
       " 16046: 3,\n",
       " 15234: 11,\n",
       " 15218: 7,\n",
       " 15147: 7,\n",
       " 15122: 16,\n",
       " 15202: 13,\n",
       " 15239: 9,\n",
       " 15236: 25,\n",
       " 15102: 21,\n",
       " 15131: 9,\n",
       " 15222: 46,\n",
       " 15123: 3,\n",
       " 15231: 11,\n",
       " 15084: 15,\n",
       " 15232: 12,\n",
       " 15241: 15,\n",
       " 15090: 18,\n",
       " 15203: 19,\n",
       " 15238: 18,\n",
       " 15106: 10,\n",
       " 15120: 16,\n",
       " 15137: 13,\n",
       " 15025: 2,\n",
       " 15224: 6,\n",
       " 15220: 15,\n",
       " 15275: 10,\n",
       " 15143: 10,\n",
       " 15217: 20,\n",
       " 15101: 10,\n",
       " 15223: 5,\n",
       " 15071: 3,\n",
       " 15227: 12,\n",
       " 15206: 11,\n",
       " 15282: 1,\n",
       " 15212: 9,\n",
       " 15201: 5,\n",
       " 15221: 12,\n",
       " 15034: 4,\n",
       " 15229: 8,\n",
       " 15235: 22,\n",
       " 15132: 9,\n",
       " 15228: 7,\n",
       " 15211: 2,\n",
       " 15116: 3,\n",
       " 15076: 1,\n",
       " 15145: 2,\n",
       " 15226: 7,\n",
       " 15037: 3,\n",
       " 15140: 1,\n",
       " 15139: 3,\n",
       " 15209: 3,\n",
       " 15208: 1,\n",
       " 15207: 1,\n",
       " 15129: 1,\n",
       " 15215: 4,\n",
       " 15144: 1,\n",
       " 15024: 2,\n",
       " 15110: 2,\n",
       " 15233: 4,\n",
       " 15148: 1,\n",
       " 15003: 1,\n",
       " 15225: 1,\n",
       " 15045: 1,\n",
       " 15056: 2}"
      ]
     },
     "execution_count": 4,
     "metadata": {},
     "output_type": "execute_result"
    }
   ],
   "source": [
    "AQI = {}\n",
    "n=0\n",
    "n1=0\n",
    "n2=1\n",
    "for row in Food.iterrows():\n",
    "    n1 = Food.iloc[n,5] \n",
    "    if n1 not in AQI:\n",
    "        AQI[n1] = n2\n",
    "    elif n1 in AQI:\n",
    "        AQI[n1] = AQI[n1] + n2\n",
    "    n = n+1\n",
    "\n",
    "AQI"
   ]
  },
  {
   "cell_type": "markdown",
   "metadata": {},
   "source": [
    "Here I had to manually turn zip codes into neighborhoods. I did this because the first dataset we used was divided into neighborhoods, so I conformed this dataset to fit into that model for better comparisons of neighborhoods. Also, this dataset covered all of Allegheny County, while we were focusing on neighborhoods of Pittsburgh."
   ]
  },
  {
   "cell_type": "code",
   "execution_count": 5,
   "metadata": {},
   "outputs": [],
   "source": [
    "Lawrenceville = np.array([15201])\n",
    "FlagPlaza = np.array([15219])\n",
    "Avalon = np.array([15202])\n",
    "Lincoln = np.array([15207])\n",
    "SouthFayette = np.array([15017, 15071, 15031, 15057, 15082, 15142, 15064, 15231])\n",
    "NorthBraddock = np.array([15104])\n",
    "ParkwayEast = np.array([15112])\n",
    "GlassportHighStreet = np.array([15045])\n",
    "Clairton = np.array([15025])\n",
    "WestMifflin = np.array([15034, 15236, 15122, 15123, 15207])\n",
    "# ^The ZIP Codes of each neighborhood"
   ]
  },
  {
   "cell_type": "markdown",
   "metadata": {},
   "source": [
    "These are some arrays, a dictionary and a list to make processing the data easier."
   ]
  },
  {
   "cell_type": "code",
   "execution_count": 6,
   "metadata": {
    "collapsed": true,
    "jupyter": {
     "outputs_hidden": true
    }
   },
   "outputs": [
    {
     "name": "stderr",
     "output_type": "stream",
     "text": [
      "/tmp/ipykernel_4431/1811638461.py:1: VisibleDeprecationWarning: Creating an ndarray from ragged nested sequences (which is a list-or-tuple of lists-or-tuples-or ndarrays with different lengths or shapes) is deprecated. If you meant to do this, you must specify 'dtype=object' when creating the ndarray.\n",
      "  AllLocations = np.array([Lawrenceville, FlagPlaza, Avalon, Lincoln, SouthFayette, NorthBraddock, ParkwayEast, GlassportHighStreet, Clairton, WestMifflin])\n"
     ]
    }
   ],
   "source": [
    "AllLocations = np.array([Lawrenceville, FlagPlaza, Avalon, Lincoln, SouthFayette, NorthBraddock, ParkwayEast, GlassportHighStreet, Clairton, WestMifflin])\n",
    "# ^array of above arrays\n",
    "AllLocationsNames = np.array([\"Lawrenceville\", \"Flag Plaza\", \"Avalon\", \"Lincoln\", \"South Fayette\", \"North Braddock\", \"Parkway East\", \"Glassport High Street\", \"Clairton\", \"West Mifflin\"])\n",
    "# ^name of each array\n",
    "TotalLocations = {}\n",
    "#empty dictionary to display data\n",
    "zipCodeList = list(AQI.keys())\n",
    "#all the zip codes in the dataset moved into a list"
   ]
  },
  {
   "cell_type": "markdown",
   "metadata": {},
   "source": [
    "This is a nested loop. The inner loop checks if each zipcode is part of a neighborhood. If a zipcode is part of a neighborhood it adds the number of fast food restaurants in the zip code to the neighborhood total. The outer loop just moves to the next neighborhood so the process can be repeated."
   ]
  },
  {
   "cell_type": "code",
   "execution_count": 7,
   "metadata": {},
   "outputs": [
    {
     "data": {
      "text/plain": [
       "{'North Braddock': 0,\n",
       " 'Parkway East': 0,\n",
       " 'Lincoln': 1,\n",
       " 'Glassport High Street': 1,\n",
       " 'Clairton': 2,\n",
       " 'Lawrenceville': 5,\n",
       " 'Avalon': 13,\n",
       " 'Flag Plaza': 27,\n",
       " 'South Fayette': 33,\n",
       " 'West Mifflin': 49}"
      ]
     },
     "execution_count": 7,
     "metadata": {},
     "output_type": "execute_result"
    }
   ],
   "source": [
    "for i in range(len(AllLocations)):\n",
    "    for j in range(len(zipCodeList)):\n",
    "        if zipCodeList[j] in AllLocations[i]:\n",
    "            if AllLocationsNames[i] not in TotalLocations.keys():\n",
    "                TotalLocations[AllLocationsNames[i]] = AQI[zipCodeList[j]]\n",
    "                #if the neighborhood isnt in the dictionary add it\n",
    "            else:\n",
    "                TotalLocations[AllLocationsNames[i]] += AQI[zipCodeList[j]]\n",
    "                #if the neighborhood is in the dictionary add to its value\n",
    "\n",
    "for i in range(len(AllLocationsNames)):\n",
    "    if AllLocationsNames[i] not in TotalLocations.keys():\n",
    "        TotalLocations[AllLocationsNames[i]] = 0\n",
    "#if adds a neighborhood to the dictionary if it has no locations\n",
    "\n",
    "dict(sorted(TotalLocations.items(), key=lambda item: item[1]))\n",
    "#sorts data"
   ]
  },
  {
   "cell_type": "markdown",
   "metadata": {},
   "source": [
    "Here we have a sorted list of each neighborhood and how many fast food restaurants they have. The higher vertically on the list, with a lower integer value is a healthier neighborhood, while lower vertically, with a higher integer value is a less healthy neighborhood. By this metric North Braddock and Parkway East are tied for healthiest neighborhoods, while West Mifflin stands alone as least healthy."
   ]
  },
  {
   "cell_type": "markdown",
   "metadata": {},
   "source": [
    "Here is the same data from the dictionary displayed in the form of a bar graph."
   ]
  },
  {
   "cell_type": "code",
   "execution_count": 8,
   "metadata": {},
   "outputs": [
    {
     "data": {
      "image/png": "[encoded data removed]",
      "text/plain": [
       "<Figure size 640x480 with 1 Axes>"
      ]
     },
     "metadata": {},
     "output_type": "display_data"
    }
   ],
   "source": [
    "TotalLocationsSorted = dict(sorted(TotalLocations.items(), key=lambda item: item[1]))\n",
    "names = list(TotalLocationsSorted.keys())\n",
    "values = list(TotalLocationsSorted.values())\n",
    "plt.bar(range(len(TotalLocationsSorted)), values, tick_label=names)\n",
    "plt.xticks(rotation=90)\n",
    "plt.show()"
   ]
  },
  {
   "cell_type": "code",
   "execution_count": null,
   "metadata": {},
   "outputs": [],
   "source": []
  }
 ],
 "metadata": {
  "kernelspec": {
   "display_name": "Python 3 (ipykernel)",
   "language": "python",
   "name": "python3"
  },
  "language_info": {
   "codemirror_mode": {
    "name": "ipython",
    "version": 3
   },
   "file_extension": ".py",
   "mimetype": "text/x-python",
   "name": "python",
   "nbconvert_exporter": "python",
   "pygments_lexer": "ipython3",
   "version": "3.8.3"
  }
 },
 "nbformat": 4,
 "nbformat_minor": 4
}
