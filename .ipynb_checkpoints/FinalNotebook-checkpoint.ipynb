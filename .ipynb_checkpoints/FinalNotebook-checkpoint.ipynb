{
 "cells": [
  {
   "cell_type": "markdown",
   "metadata": {},
   "source": [
    "# Final Project"
   ]
  },
  {
   "cell_type": "markdown",
   "metadata": {},
   "source": [
    "## Introduction"
   ]
  },
  {
   "cell_type": "markdown",
   "metadata": {},
   "source": [
    "Health is one of the primary factors of deciding where you wanna live. It is important to make sure the environment you live in makes it easy for you to stay healthy. You don't wanna live in an area where the air quality is bad. You DO wanna live in an area where there is a lot of fast food restaurants, but if you lived in an area where there were a limited amount, you would be forced to stay healthier. Also, you wouldn't wanna live in a place where they dump unnaturally large amounts of toxic waste into the local water streams. All these submetrics will be studied in this project, and will be combined to one \"health\" metric, that will find the best neighborhood to live in in Allegheny County."
   ]
  },
  {
   "cell_type": "markdown",
   "metadata": {},
   "source": [
    "## Air Quality Index - Hamza"
   ]
  },
  {
   "cell_type": "code",
   "execution_count": 2,
   "metadata": {},
   "outputs": [],
   "source": [
    "import pandas as pd\n",
    "import numpy as np\n",
    "%matplotlib inline\n",
    "import matplotlib.pyplot as plt\n"
   ]
  },
  {
   "cell_type": "markdown",
   "metadata": {},
   "source": [
    "While searching through the datasets in the wprdc website, I figured that the Allegheny County Air Quality dataset was a good dataset to manipulate and use to come to conclusions. So in this case, I will be finding the neighborhood with the lowest \"Air Quality Index\" so I can crown it as the healthiest neighborhood to live in in terms of lung health."
   ]
  },
  {
   "cell_type": "markdown",
   "metadata": {},
   "source": [
    "Link to dataset used: https://data.wprdc.org/dataset/allegheny-county-air-quality/resource/4ab1e23f-3262-4bd3-adbf-f72f0119108b?inner_span=True"
   ]
  },
  {
   "cell_type": "markdown",
   "metadata": {},
   "source": [
    "First, lets import the dataset into this notebook."
   ]
  },
  {
   "cell_type": "code",
   "execution_count": 3,
   "metadata": {},
   "outputs": [],
   "source": [
    "Air = pd.read_csv(\"AQI_Data.csv\")"
   ]
  },
  {
   "cell_type": "markdown",
   "metadata": {},
   "source": [
    "To check if it displays properly, I used Air.head"
   ]
  },
  {
   "cell_type": "code",
   "execution_count": 4,
   "metadata": {},
   "outputs": [
    {
     "data": {
      "text/html": [
       "<div>\n",
       "<style scoped>\n",
       "    .dataframe tbody tr th:only-of-type {\n",
       "        vertical-align: middle;\n",
       "    }\n",
       "\n",
       "    .dataframe tbody tr th {\n",
       "        vertical-align: top;\n",
       "    }\n",
       "\n",
       "    .dataframe thead th {\n",
       "        text-align: right;\n",
       "    }\n",
       "</style>\n",
       "<table border=\"1\" class=\"dataframe\">\n",
       "  <thead>\n",
       "    <tr style=\"text-align: right;\">\n",
       "      <th></th>\n",
       "      <th>date</th>\n",
       "      <th>site</th>\n",
       "      <th>parameter</th>\n",
       "      <th>index_value</th>\n",
       "      <th>description</th>\n",
       "      <th>health_advisory</th>\n",
       "      <th>health_effects</th>\n",
       "    </tr>\n",
       "  </thead>\n",
       "  <tbody>\n",
       "    <tr>\n",
       "      <th>0</th>\n",
       "      <td>2016-01-01</td>\n",
       "      <td>Lawrenceville</td>\n",
       "      <td>PM25B</td>\n",
       "      <td>25</td>\n",
       "      <td>Good</td>\n",
       "      <td>NaN</td>\n",
       "      <td>NaN</td>\n",
       "    </tr>\n",
       "    <tr>\n",
       "      <th>1</th>\n",
       "      <td>2016-01-01</td>\n",
       "      <td>Flag Plaza</td>\n",
       "      <td>CO</td>\n",
       "      <td>0</td>\n",
       "      <td>Good</td>\n",
       "      <td>NaN</td>\n",
       "      <td>NaN</td>\n",
       "    </tr>\n",
       "    <tr>\n",
       "      <th>2</th>\n",
       "      <td>2016-01-01</td>\n",
       "      <td>Harrison Township</td>\n",
       "      <td>OZONE</td>\n",
       "      <td>31</td>\n",
       "      <td>Good</td>\n",
       "      <td>NaN</td>\n",
       "      <td>NaN</td>\n",
       "    </tr>\n",
       "    <tr>\n",
       "      <th>3</th>\n",
       "      <td>2016-01-01</td>\n",
       "      <td>Avalon</td>\n",
       "      <td>SO2</td>\n",
       "      <td>10</td>\n",
       "      <td>Good</td>\n",
       "      <td>NaN</td>\n",
       "      <td>NaN</td>\n",
       "    </tr>\n",
       "    <tr>\n",
       "      <th>4</th>\n",
       "      <td>2016-01-01</td>\n",
       "      <td>Lincoln</td>\n",
       "      <td>PM25</td>\n",
       "      <td>35</td>\n",
       "      <td>Good</td>\n",
       "      <td>NaN</td>\n",
       "      <td>NaN</td>\n",
       "    </tr>\n",
       "    <tr>\n",
       "      <th>5</th>\n",
       "      <td>2016-01-01</td>\n",
       "      <td>Lincoln</td>\n",
       "      <td>PM10</td>\n",
       "      <td>11</td>\n",
       "      <td>Good</td>\n",
       "      <td>NaN</td>\n",
       "      <td>NaN</td>\n",
       "    </tr>\n",
       "    <tr>\n",
       "      <th>6</th>\n",
       "      <td>2016-01-01</td>\n",
       "      <td>South Fayette</td>\n",
       "      <td>SO2</td>\n",
       "      <td>3</td>\n",
       "      <td>Good</td>\n",
       "      <td>NaN</td>\n",
       "      <td>NaN</td>\n",
       "    </tr>\n",
       "    <tr>\n",
       "      <th>7</th>\n",
       "      <td>2016-01-01</td>\n",
       "      <td>North Braddock</td>\n",
       "      <td>PM10B</td>\n",
       "      <td>12</td>\n",
       "      <td>Good</td>\n",
       "      <td>NaN</td>\n",
       "      <td>NaN</td>\n",
       "    </tr>\n",
       "    <tr>\n",
       "      <th>8</th>\n",
       "      <td>2016-01-01</td>\n",
       "      <td>Parkway East</td>\n",
       "      <td>CO</td>\n",
       "      <td>4</td>\n",
       "      <td>Good</td>\n",
       "      <td>NaN</td>\n",
       "      <td>NaN</td>\n",
       "    </tr>\n",
       "    <tr>\n",
       "      <th>9</th>\n",
       "      <td>2016-01-01</td>\n",
       "      <td>Flag Plaza</td>\n",
       "      <td>PM10</td>\n",
       "      <td>7</td>\n",
       "      <td>Good</td>\n",
       "      <td>NaN</td>\n",
       "      <td>NaN</td>\n",
       "    </tr>\n",
       "  </tbody>\n",
       "</table>\n",
       "</div>"
      ],
      "text/plain": [
       "         date               site parameter  index_value description  \\\n",
       "0  2016-01-01      Lawrenceville     PM25B           25        Good   \n",
       "1  2016-01-01         Flag Plaza        CO            0        Good   \n",
       "2  2016-01-01  Harrison Township     OZONE           31        Good   \n",
       "3  2016-01-01             Avalon       SO2           10        Good   \n",
       "4  2016-01-01            Lincoln      PM25           35        Good   \n",
       "5  2016-01-01            Lincoln      PM10           11        Good   \n",
       "6  2016-01-01      South Fayette       SO2            3        Good   \n",
       "7  2016-01-01     North Braddock     PM10B           12        Good   \n",
       "8  2016-01-01       Parkway East        CO            4        Good   \n",
       "9  2016-01-01         Flag Plaza      PM10            7        Good   \n",
       "\n",
       "  health_advisory health_effects  \n",
       "0             NaN            NaN  \n",
       "1             NaN            NaN  \n",
       "2             NaN            NaN  \n",
       "3             NaN            NaN  \n",
       "4             NaN            NaN  \n",
       "5             NaN            NaN  \n",
       "6             NaN            NaN  \n",
       "7             NaN            NaN  \n",
       "8             NaN            NaN  \n",
       "9             NaN            NaN  "
      ]
     },
     "execution_count": 4,
     "metadata": {},
     "output_type": "execute_result"
    }
   ],
   "source": [
    "Air.head(10)"
   ]
  },
  {
   "cell_type": "markdown",
   "metadata": {},
   "source": [
    "0-50 index is considered Good, 50 - 100 is considered Moderate, 100-130? is considered Unhealthy for sensitive groups"
   ]
  },
  {
   "cell_type": "code",
   "execution_count": 5,
   "metadata": {},
   "outputs": [
    {
     "data": {
      "text/plain": [
       "21.731824565193907"
      ]
     },
     "execution_count": 5,
     "metadata": {},
     "output_type": "execute_result"
    }
   ],
   "source": [
    "Air['index_value'].mean()"
   ]
  },
  {
   "cell_type": "markdown",
   "metadata": {},
   "source": [
    "The average Air Quality Index Value for all the neighborhoods/sites in Allegheny County is 21.731824565193907.\n",
    "Anything below that index value is considered better than average air quality relative to the other neigborhoods/sitesin Allegheny County"
   ]
  },
  {
   "cell_type": "code",
   "execution_count": 6,
   "metadata": {},
   "outputs": [
    {
     "name": "stdout",
     "output_type": "stream",
     "text": [
      "There are 15 unique neighborhoods/sites that were recorded\n"
     ]
    }
   ],
   "source": [
    "n = 0\n",
    "uniq = Air['site'].unique()\n",
    "for a in uniq:\n",
    "    n = n + 1\n",
    "n = str(n)\n",
    "print(\"There are \" + n + \" unique neighborhoods/sites that were recorded\")"
   ]
  },
  {
   "cell_type": "markdown",
   "metadata": {},
   "source": [
    "\n"
   ]
  },
  {
   "cell_type": "markdown",
   "metadata": {},
   "source": [
    "We're gonna find out how many times each neighborhood/site was recorded to see if this data can be trusted"
   ]
  },
  {
   "cell_type": "code",
   "execution_count": 7,
   "metadata": {},
   "outputs": [
    {
     "data": {
      "text/plain": [
       "{'Lawrenceville': 4026,\n",
       " 'Flag Plaza': 4002,\n",
       " 'Harrison Township': 4806,\n",
       " 'Avalon': 4054,\n",
       " 'Lincoln': 3574,\n",
       " 'South Fayette': 4627,\n",
       " 'North Braddock': 5763,\n",
       " 'Parkway East': 7460,\n",
       " 'Liberty 2': 4906,\n",
       " 'Lawrenceville 2': 4970,\n",
       " 'Glassport High Street': 2493,\n",
       " 'Liberty': 2506,\n",
       " 'Clairton': 553,\n",
       " 'West Mifflin': 301,\n",
       " 'Pittsburgh': 1501}"
      ]
     },
     "execution_count": 7,
     "metadata": {},
     "output_type": "execute_result"
    }
   ],
   "source": [
    "AQI = {}\n",
    "n=0\n",
    "n1=0\n",
    "n2=1\n",
    "for row in Air.iterrows():\n",
    "    n1 = Air.iloc[n,1] \n",
    "    if n1 not in AQI:\n",
    "        AQI[n1] = n2\n",
    "    elif n1 in AQI:\n",
    "        AQI[n1] = AQI[n1] + n2\n",
    "    n = n+1\n",
    "\n",
    "AQI"
   ]
  },
  {
   "cell_type": "markdown",
   "metadata": {},
   "source": [
    "The most recorded neighborhood/site is Parkway East, while the least recorded neigborhood/site is West Mifflin. West Mifflin was recorded only 301 times, which while being a low number compared to how many times the other sites/neighborhoods were recorded, it is still a substantial amount and should be good enough."
   ]
  },
  {
   "cell_type": "markdown",
   "metadata": {},
   "source": [
    "Now, we are gonna add the Air Quality index for each neighborhood/site, then divide by how many times that neighborhood/site has been recorded so we can find the average Air Quality index for said neighborhood/site"
   ]
  },
  {
   "cell_type": "code",
   "execution_count": 8,
   "metadata": {},
   "outputs": [],
   "source": [
    "Airq = {}\n",
    "n=0\n",
    "n1=0\n",
    "n2=0\n",
    "for row in Air.iterrows():\n",
    "    n1 = Air.iloc[n,1]\n",
    "    n2 = Air.iloc[n,3]\n",
    "    if n1 not in Airq:\n",
    "        Airq[n1] = n2\n",
    "    elif n1 in Airq:\n",
    "        Airq[n1] = Airq[n1] + n2\n",
    "    n = n+1\n",
    "\n",
    "\n"
   ]
  },
  {
   "cell_type": "code",
   "execution_count": 9,
   "metadata": {},
   "outputs": [
    {
     "data": {
      "text/plain": [
       "{'Lawrenceville': 38.044212617983106,\n",
       " 'Flag Plaza': 9.94927536231884,\n",
       " 'Harrison Township': 24.34082397003745,\n",
       " 'Avalon': 22.0004933399112,\n",
       " 'Lincoln': 35.10800223838836,\n",
       " 'South Fayette': 21.42381672790145,\n",
       " 'North Braddock': 18.175602984556654,\n",
       " 'Parkway East': 21.96206434316354,\n",
       " 'Liberty 2': 32.26335099877701,\n",
       " 'Lawrenceville 2': 3.081086519114688,\n",
       " 'Glassport High Street': 17.186522262334538,\n",
       " 'Liberty': 18.70071827613727,\n",
       " 'Clairton': 17.81374321880651,\n",
       " 'West Mifflin': 6.335548172757475,\n",
       " 'Pittsburgh': 26.397068620919388}"
      ]
     },
     "execution_count": 9,
     "metadata": {},
     "output_type": "execute_result"
    }
   ],
   "source": [
    "AverageAir = dict((k, float(Airq[k]) / AQI[k]) for k in Airq)\n",
    "AverageAir\n",
    "\n"
   ]
  },
  {
   "cell_type": "code",
   "execution_count": 10,
   "metadata": {},
   "outputs": [],
   "source": [
    "airplot = pd.Series(AverageAir)\n"
   ]
  },
  {
   "cell_type": "code",
   "execution_count": 11,
   "metadata": {},
   "outputs": [
    {
     "data": {
      "text/plain": [
       "Lawrenceville            38.044213\n",
       "Flag Plaza                9.949275\n",
       "Harrison Township        24.340824\n",
       "Avalon                   22.000493\n",
       "Lincoln                  35.108002\n",
       "South Fayette            21.423817\n",
       "North Braddock           18.175603\n",
       "Parkway East             21.962064\n",
       "Liberty 2                32.263351\n",
       "Lawrenceville 2           3.081087\n",
       "Glassport High Street    17.186522\n",
       "Liberty                  18.700718\n",
       "Clairton                 17.813743\n",
       "West Mifflin              6.335548\n",
       "Pittsburgh               26.397069\n",
       "dtype: float64"
      ]
     },
     "execution_count": 11,
     "metadata": {},
     "output_type": "execute_result"
    }
   ],
   "source": [
    "airplot"
   ]
  },
  {
   "cell_type": "markdown",
   "metadata": {},
   "source": [
    "Before we proceed, We have to add up Lawrenceville and Lawrenceville 2's Average AQI and divide it by two. This is because there were two measurers placed in Lawrenceville.\n",
    "Same thing has to be done with Lincoln and Lincoln 2."
   ]
  },
  {
   "cell_type": "code",
   "execution_count": 12,
   "metadata": {},
   "outputs": [],
   "source": [
    "law1 = AverageAir[\"Lawrenceville\"]\n",
    "law2 = AverageAir[\"Lawrenceville 2\"]\n",
    "average = (law1+law2)/2\n",
    "AverageAir[\"Lawrenceville\"] = average\n",
    "del AverageAir[\"Lawrenceville 2\"]\n"
   ]
  },
  {
   "cell_type": "code",
   "execution_count": 13,
   "metadata": {},
   "outputs": [],
   "source": [
    "lib1 = AverageAir[\"Liberty\"]\n",
    "lib2 = AverageAir[\"Liberty 2\"]\n",
    "averagelib = (lib1+lib2)/2\n",
    "AverageAir[\"Liberty\"] = average\n",
    "del AverageAir[\"Liberty 2\"]"
   ]
  },
  {
   "cell_type": "code",
   "execution_count": 14,
   "metadata": {},
   "outputs": [
    {
     "data": {
      "text/plain": [
       "{'Lawrenceville': 20.5626495685489,\n",
       " 'Flag Plaza': 9.94927536231884,\n",
       " 'Harrison Township': 24.34082397003745,\n",
       " 'Avalon': 22.0004933399112,\n",
       " 'Lincoln': 35.10800223838836,\n",
       " 'South Fayette': 21.42381672790145,\n",
       " 'North Braddock': 18.175602984556654,\n",
       " 'Parkway East': 21.96206434316354,\n",
       " 'Glassport High Street': 17.186522262334538,\n",
       " 'Liberty': 20.5626495685489,\n",
       " 'Clairton': 17.81374321880651,\n",
       " 'West Mifflin': 6.335548172757475,\n",
       " 'Pittsburgh': 26.397068620919388}"
      ]
     },
     "execution_count": 14,
     "metadata": {},
     "output_type": "execute_result"
    }
   ],
   "source": [
    "AverageAir"
   ]
  },
  {
   "cell_type": "markdown",
   "metadata": {},
   "source": [
    "Now, lets find the sites/neighborhoods that have an average AQI below the mean."
   ]
  },
  {
   "cell_type": "code",
   "execution_count": 15,
   "metadata": {},
   "outputs": [],
   "source": [
    "new = airplot.drop(airplot.index[9])\n",
    "new.iloc[0] = average\n",
    "\n"
   ]
  },
  {
   "cell_type": "code",
   "execution_count": 16,
   "metadata": {},
   "outputs": [],
   "source": [
    "new1 = new.drop(new.index[8])\n",
    "new1.iloc[10] = averagelib\n"
   ]
  },
  {
   "cell_type": "code",
   "execution_count": 17,
   "metadata": {},
   "outputs": [
    {
     "data": {
      "text/plain": [
       "{'Lawrenceville': 20.5626495685489,\n",
       " 'Flag Plaza': 9.94927536231884,\n",
       " 'South Fayette': 21.42381672790145,\n",
       " 'North Braddock': 18.175602984556654,\n",
       " 'Glassport High Street': 17.186522262334538,\n",
       " 'Liberty': 18.70071827613727,\n",
       " 'West Mifflin': 6.335548172757475}"
      ]
     },
     "execution_count": 17,
     "metadata": {},
     "output_type": "execute_result"
    }
   ],
   "source": [
    "goodair = {}\n",
    "n=0\n",
    "n1=0\n",
    "n2=0\n",
    "mean = Air['index_value'].mean()\n",
    "value = new1.values\n",
    "index = new1.index\n",
    "for item in new1.iteritems():\n",
    "    if value[n] < mean:\n",
    "        goodair[index[n]] = value[n]\n",
    "    n = n + 1\n",
    "goodair\n"
   ]
  },
  {
   "cell_type": "markdown",
   "metadata": {},
   "source": [
    "The sites/neighborhoods with an Air Quality index below the mean of 21.731824565193907 are Flag Plaza, South Fayette, North Braddock, Lawrenceville 2, Glassport High Street, Liberty, Clairton, and West mifflin."
   ]
  },
  {
   "cell_type": "markdown",
   "metadata": {},
   "source": [
    "This time we are gonna find the sites/neighborhoods that have an average higher than the mean."
   ]
  },
  {
   "cell_type": "code",
   "execution_count": 18,
   "metadata": {},
   "outputs": [
    {
     "data": {
      "text/plain": [
       "{'Harrison Township': 24.34082397003745,\n",
       " 'Avalon': 22.0004933399112,\n",
       " 'Lincoln': 35.10800223838836,\n",
       " 'Parkway East': 21.96206434316354,\n",
       " 'Clairton': 25.48203463745714,\n",
       " 'Pittsburgh': 26.397068620919388}"
      ]
     },
     "execution_count": 18,
     "metadata": {},
     "output_type": "execute_result"
    }
   ],
   "source": [
    "badair = {}\n",
    "n=0\n",
    "n1=0\n",
    "n2=0\n",
    "mean = Air['index_value'].mean()\n",
    "value = new1.values\n",
    "index = new1.index\n",
    "for item in new1.iteritems():\n",
    "    if value[n] > mean:\n",
    "        badair[index[n]] = value[n]\n",
    "    n = n + 1\n",
    "badair\n",
    "\n"
   ]
  },
  {
   "cell_type": "markdown",
   "metadata": {},
   "source": [
    "The sites/neighborhoods with an Air Quality Index above the mean of 21.731824565193907 are Lawrenceville, Harrison Township, Avalon, Lincoln, Parkway East, Liberty 2, and Pittsburgh."
   ]
  },
  {
   "cell_type": "markdown",
   "metadata": {},
   "source": [
    "Now, its time to single out the site/neighborhood with the lowest average Air Quality Index using some pandas python code."
   ]
  },
  {
   "cell_type": "code",
   "execution_count": 19,
   "metadata": {},
   "outputs": [
    {
     "data": {
      "text/plain": [
       "6.335548172757475"
      ]
     },
     "execution_count": 19,
     "metadata": {},
     "output_type": "execute_result"
    }
   ],
   "source": [
    "new1.min()"
   ]
  },
  {
   "cell_type": "markdown",
   "metadata": {},
   "source": [
    "It seems that the lowest Air Quality index is 6.335548172757475. Lets find out what site/neighborhood holds that value"
   ]
  },
  {
   "cell_type": "code",
   "execution_count": 20,
   "metadata": {},
   "outputs": [
    {
     "data": {
      "text/plain": [
       "'West Mifflin'"
      ]
     },
     "execution_count": 20,
     "metadata": {},
     "output_type": "execute_result"
    }
   ],
   "source": [
    "position = new1.argmin()\n",
    "index = new1.index\n",
    "index[position]\n"
   ]
  },
  {
   "cell_type": "markdown",
   "metadata": {},
   "source": [
    "It turns out West Mifflin has the lowest average Air Quality Index out of all 15 sites/neighborhoods recorded, crowning it the healthiest site/neighborhood to live in in allegheny county in terms of lung health."
   ]
  },
  {
   "cell_type": "markdown",
   "metadata": {},
   "source": [
    "Here is a bar graph to visualize this data and compare the site/neighborhoods with eachother easily"
   ]
  },
  {
   "cell_type": "code",
   "execution_count": 21,
   "metadata": {},
   "outputs": [
    {
     "data": {
      "text/plain": [
       "Text(0, 0.5, 'Air Quality Index')"
      ]
     },
     "execution_count": 21,
     "metadata": {},
     "output_type": "execute_result"
    },
    {
     "data": {
      "image/png": "[encoded data removed]",
      "text/plain": [
       "<Figure size 432x288 with 1 Axes>"
      ]
     },
     "metadata": {
      "needs_background": "light"
     },
     "output_type": "display_data"
    }
   ],
   "source": [
    "new1.plot(kind='bar')\n",
    "plt.title(\"Air Quality Index Comparison\")\n",
    "plt.xlabel(\"Neighborhoods/Sites\")\n",
    "plt.ylabel(\"Air Quality Index\")"
   ]
  },
  {
   "cell_type": "markdown",
   "metadata": {},
   "source": [
    "Here is a series that shows the values in order numerically to make more accurate comparisons."
   ]
  },
  {
   "cell_type": "code",
   "execution_count": 22,
   "metadata": {},
   "outputs": [
    {
     "data": {
      "text/plain": [
       "West Mifflin              6.335548\n",
       "Flag Plaza                9.949275\n",
       "Glassport High Street    17.186522\n",
       "North Braddock           18.175603\n",
       "Liberty                  18.700718\n",
       "Lawrenceville            20.562650\n",
       "South Fayette            21.423817\n",
       "Parkway East             21.962064\n",
       "Avalon                   22.000493\n",
       "Harrison Township        24.340824\n",
       "Clairton                 25.482035\n",
       "Pittsburgh               26.397069\n",
       "Lincoln                  35.108002\n",
       "dtype: float64"
      ]
     },
     "execution_count": 22,
     "metadata": {},
     "output_type": "execute_result"
    }
   ],
   "source": [
    "new2 = new1.sort_values()\n",
    "new2"
   ]
  },
  {
   "cell_type": "code",
   "execution_count": null,
   "metadata": {},
   "outputs": [],
   "source": []
  },
  {
   "cell_type": "markdown",
   "metadata": {},
   "source": [
    "## Fast Food Locations - Christian"
   ]
  },
  {
   "cell_type": "code",
   "execution_count": null,
   "metadata": {},
   "outputs": [],
   "source": []
  },
  {
   "cell_type": "code",
   "execution_count": 23,
   "metadata": {},
   "outputs": [],
   "source": [
    "import pandas as pd\n",
    "import numpy as np"
   ]
  },
  {
   "cell_type": "markdown",
   "metadata": {},
   "source": [
    "For my dataset, I chose Allegheny County Fast Food Establishments. This dataset tracks the location of fast food restaurants across Allegheny County. I will be using this dataset to tally the number of fast food restaurants in each Pittsburgh neighborhood. In this situation, the neighborhood with the fewest fast foot restaurants is the healthiest."
   ]
  },
  {
   "cell_type": "markdown",
   "metadata": {},
   "source": [
    "Link to dataset: https://data.wprdc.org/dataset/allegheny-county-fast-food/resource/3c530161-2976-41ae-a0f0-7d3e74835049?view_id=5d1cd55e-ca5f-4020-bb07-b527a2ea67f7"
   ]
  },
  {
   "cell_type": "code",
   "execution_count": null,
   "metadata": {},
   "outputs": [],
   "source": []
  },
  {
   "cell_type": "code",
   "execution_count": 24,
   "metadata": {},
   "outputs": [],
   "source": [
    "Food = pd.read_csv(\"fastfoodalleghenycountyupdatexy2.csv\")"
   ]
  },
  {
   "cell_type": "markdown",
   "metadata": {},
   "source": [
    "Here I import the dataset, then display some values so you can get a sense of what the dataset keeps track of"
   ]
  },
  {
   "cell_type": "code",
   "execution_count": 25,
   "metadata": {},
   "outputs": [
    {
     "data": {
      "text/html": [
       "<div>\n",
       "<style scoped>\n",
       "    .dataframe tbody tr th:only-of-type {\n",
       "        vertical-align: middle;\n",
       "    }\n",
       "\n",
       "    .dataframe tbody tr th {\n",
       "        vertical-align: top;\n",
       "    }\n",
       "\n",
       "    .dataframe thead th {\n",
       "        text-align: right;\n",
       "    }\n",
       "</style>\n",
       "<table border=\"1\" class=\"dataframe\">\n",
       "  <thead>\n",
       "    <tr style=\"text-align: right;\">\n",
       "      <th></th>\n",
       "      <th>Name</th>\n",
       "      <th>Legal Name</th>\n",
       "      <th>Start Date</th>\n",
       "      <th>Street Number</th>\n",
       "      <th>Street Name</th>\n",
       "      <th>ZIP Code</th>\n",
       "      <th>Lat</th>\n",
       "      <th>Lon</th>\n",
       "      <th>Category</th>\n",
       "    </tr>\n",
       "  </thead>\n",
       "  <tbody>\n",
       "    <tr>\n",
       "      <th>0</th>\n",
       "      <td>Adrian's Pizza</td>\n",
       "      <td>NaN</td>\n",
       "      <td>11/7/2014</td>\n",
       "      <td>605</td>\n",
       "      <td>Thompson Run Rd</td>\n",
       "      <td>15237</td>\n",
       "      <td>40.539465</td>\n",
       "      <td>-79.990764</td>\n",
       "      <td>Take Out</td>\n",
       "    </tr>\n",
       "    <tr>\n",
       "      <th>1</th>\n",
       "      <td>Adrian's Pizza Express</td>\n",
       "      <td>Rock Enterprises Inc</td>\n",
       "      <td>4/22/2004</td>\n",
       "      <td>7824</td>\n",
       "      <td>Perry Hwy</td>\n",
       "      <td>15237</td>\n",
       "      <td>40.551219</td>\n",
       "      <td>-80.037362</td>\n",
       "      <td>Take Out</td>\n",
       "    </tr>\n",
       "    <tr>\n",
       "      <th>2</th>\n",
       "      <td>Allegheny Sandwich Shop</td>\n",
       "      <td>NaN</td>\n",
       "      <td>2/24/1997</td>\n",
       "      <td>414</td>\n",
       "      <td>Grant St</td>\n",
       "      <td>15219</td>\n",
       "      <td>40.438110</td>\n",
       "      <td>-79.996860</td>\n",
       "      <td>NO Dollar Menu</td>\n",
       "    </tr>\n",
       "    <tr>\n",
       "      <th>3</th>\n",
       "      <td>Allegheny Sandwich Shoppe #3</td>\n",
       "      <td>Allegheny Sandwich Shoppe Inc</td>\n",
       "      <td>11/9/2001</td>\n",
       "      <td>440</td>\n",
       "      <td>Ross St</td>\n",
       "      <td>15219</td>\n",
       "      <td>40.438514</td>\n",
       "      <td>-79.995330</td>\n",
       "      <td>NO Dollar Menu</td>\n",
       "    </tr>\n",
       "    <tr>\n",
       "      <th>4</th>\n",
       "      <td>Amili's Pizzeria</td>\n",
       "      <td>NaN</td>\n",
       "      <td>2/26/1999</td>\n",
       "      <td>1021</td>\n",
       "      <td>Brownsville Rd</td>\n",
       "      <td>15210</td>\n",
       "      <td>40.406082</td>\n",
       "      <td>-79.991863</td>\n",
       "      <td>Take Out</td>\n",
       "    </tr>\n",
       "    <tr>\n",
       "      <th>5</th>\n",
       "      <td>Angelia's Pizza</td>\n",
       "      <td>JNG Pizza LLC</td>\n",
       "      <td>5/11/2004</td>\n",
       "      <td>202</td>\n",
       "      <td>Moon Clinton Rd</td>\n",
       "      <td>15108</td>\n",
       "      <td>40.513135</td>\n",
       "      <td>-80.223406</td>\n",
       "      <td>Take Out</td>\n",
       "    </tr>\n",
       "    <tr>\n",
       "      <th>6</th>\n",
       "      <td>Angelia's Pizza / Chill Frozen Dessserts</td>\n",
       "      <td>Eaton Pizza Inc</td>\n",
       "      <td>10/7/2005</td>\n",
       "      <td>410</td>\n",
       "      <td>Penn Lincoln Dr</td>\n",
       "      <td>15126</td>\n",
       "      <td>40.442466</td>\n",
       "      <td>-80.235992</td>\n",
       "      <td>Take Out</td>\n",
       "    </tr>\n",
       "    <tr>\n",
       "      <th>7</th>\n",
       "      <td>Antney's Ice Cream</td>\n",
       "      <td>The Iceman Inc</td>\n",
       "      <td>4/11/2002</td>\n",
       "      <td>1316</td>\n",
       "      <td>Poplar St</td>\n",
       "      <td>15205</td>\n",
       "      <td>40.427470</td>\n",
       "      <td>-80.052435</td>\n",
       "      <td>Breakfast, Drink, Other</td>\n",
       "    </tr>\n",
       "    <tr>\n",
       "      <th>8</th>\n",
       "      <td>Arby's</td>\n",
       "      <td>Kinco Inc</td>\n",
       "      <td>1/1/1975</td>\n",
       "      <td>1617</td>\n",
       "      <td>Freeport Rd</td>\n",
       "      <td>15065</td>\n",
       "      <td>40.622125</td>\n",
       "      <td>-79.727516</td>\n",
       "      <td>Dollar Menu</td>\n",
       "    </tr>\n",
       "    <tr>\n",
       "      <th>9</th>\n",
       "      <td>Arby's #8</td>\n",
       "      <td>Linell Corporation</td>\n",
       "      <td>12/3/2007</td>\n",
       "      <td>3974</td>\n",
       "      <td>Wm Penn Hwy</td>\n",
       "      <td>15146</td>\n",
       "      <td>40.437988</td>\n",
       "      <td>-79.772845</td>\n",
       "      <td>Dollar Menu</td>\n",
       "    </tr>\n",
       "  </tbody>\n",
       "</table>\n",
       "</div>"
      ],
      "text/plain": [
       "                                       Name                     Legal Name  \\\n",
       "0                            Adrian's Pizza                            NaN   \n",
       "1                    Adrian's Pizza Express           Rock Enterprises Inc   \n",
       "2                   Allegheny Sandwich Shop                            NaN   \n",
       "3              Allegheny Sandwich Shoppe #3  Allegheny Sandwich Shoppe Inc   \n",
       "4                          Amili's Pizzeria                            NaN   \n",
       "5                           Angelia's Pizza                  JNG Pizza LLC   \n",
       "6  Angelia's Pizza / Chill Frozen Dessserts                Eaton Pizza Inc   \n",
       "7                        Antney's Ice Cream                 The Iceman Inc   \n",
       "8                                    Arby's                      Kinco Inc   \n",
       "9                                 Arby's #8             Linell Corporation   \n",
       "\n",
       "  Start Date Street Number      Street Name  ZIP Code        Lat        Lon  \\\n",
       "0  11/7/2014           605  Thompson Run Rd     15237  40.539465 -79.990764   \n",
       "1  4/22/2004          7824        Perry Hwy     15237  40.551219 -80.037362   \n",
       "2  2/24/1997           414         Grant St     15219  40.438110 -79.996860   \n",
       "3  11/9/2001           440          Ross St     15219  40.438514 -79.995330   \n",
       "4  2/26/1999          1021   Brownsville Rd     15210  40.406082 -79.991863   \n",
       "5  5/11/2004           202  Moon Clinton Rd     15108  40.513135 -80.223406   \n",
       "6  10/7/2005           410  Penn Lincoln Dr     15126  40.442466 -80.235992   \n",
       "7  4/11/2002          1316        Poplar St     15205  40.427470 -80.052435   \n",
       "8   1/1/1975          1617      Freeport Rd     15065  40.622125 -79.727516   \n",
       "9  12/3/2007          3974      Wm Penn Hwy     15146  40.437988 -79.772845   \n",
       "\n",
       "                  Category  \n",
       "0                 Take Out  \n",
       "1                 Take Out  \n",
       "2           NO Dollar Menu  \n",
       "3           NO Dollar Menu  \n",
       "4                 Take Out  \n",
       "5                 Take Out  \n",
       "6                 Take Out  \n",
       "7  Breakfast, Drink, Other  \n",
       "8              Dollar Menu  \n",
       "9              Dollar Menu  "
      ]
     },
     "execution_count": 25,
     "metadata": {},
     "output_type": "execute_result"
    }
   ],
   "source": [
    "Food.head(10)"
   ]
  },
  {
   "cell_type": "markdown",
   "metadata": {},
   "source": [
    "Here, this for loop iterates through the dataset, and counts how many times each zip code shows up. The number of times a zip code shows up is the number of fast food restauraunts in the zip code."
   ]
  },
  {
   "cell_type": "code",
   "execution_count": 26,
   "metadata": {},
   "outputs": [
    {
     "data": {
      "text/plain": [
       "{15237: 44,\n",
       " 15219: 27,\n",
       " 15210: 11,\n",
       " 15108: 19,\n",
       " 15126: 1,\n",
       " 15205: 36,\n",
       " 15065: 10,\n",
       " 15146: 51,\n",
       " 15216: 11,\n",
       " 15213: 38,\n",
       " 15017: 19,\n",
       " 15136: 12,\n",
       " 15044: 14,\n",
       " 16046: 3,\n",
       " 15234: 11,\n",
       " 15218: 7,\n",
       " 15147: 7,\n",
       " 15122: 16,\n",
       " 15202: 13,\n",
       " 15239: 9,\n",
       " 15236: 25,\n",
       " 15102: 21,\n",
       " 15131: 9,\n",
       " 15222: 46,\n",
       " 15123: 3,\n",
       " 15231: 11,\n",
       " 15084: 15,\n",
       " 15232: 12,\n",
       " 15241: 15,\n",
       " 15090: 18,\n",
       " 15203: 19,\n",
       " 15238: 18,\n",
       " 15106: 10,\n",
       " 15120: 16,\n",
       " 15137: 13,\n",
       " 15025: 2,\n",
       " 15224: 6,\n",
       " 15220: 15,\n",
       " 15275: 10,\n",
       " 15143: 10,\n",
       " 15217: 20,\n",
       " 15101: 10,\n",
       " 15223: 5,\n",
       " 15071: 3,\n",
       " 15227: 12,\n",
       " 15206: 11,\n",
       " 15282: 1,\n",
       " 15212: 9,\n",
       " 15201: 5,\n",
       " 15221: 12,\n",
       " 15034: 4,\n",
       " 15229: 8,\n",
       " 15235: 22,\n",
       " 15132: 9,\n",
       " 15228: 7,\n",
       " 15211: 2,\n",
       " 15116: 3,\n",
       " 15076: 1,\n",
       " 15145: 2,\n",
       " 15226: 7,\n",
       " 15037: 3,\n",
       " 15140: 1,\n",
       " 15139: 3,\n",
       " 15209: 3,\n",
       " 15208: 1,\n",
       " 15207: 1,\n",
       " 15129: 1,\n",
       " 15215: 4,\n",
       " 15144: 1,\n",
       " 15024: 2,\n",
       " 15110: 2,\n",
       " 15233: 4,\n",
       " 15148: 1,\n",
       " 15003: 1,\n",
       " 15225: 1,\n",
       " 15045: 1,\n",
       " 15056: 2}"
      ]
     },
     "execution_count": 26,
     "metadata": {},
     "output_type": "execute_result"
    }
   ],
   "source": [
    "AQI = {}\n",
    "n=0\n",
    "n1=0\n",
    "n2=1\n",
    "for row in Food.iterrows():\n",
    "    n1 = Food.iloc[n,5] \n",
    "    if n1 not in AQI:\n",
    "        AQI[n1] = n2\n",
    "    elif n1 in AQI:\n",
    "        AQI[n1] = AQI[n1] + n2\n",
    "    n = n+1\n",
    "\n",
    "AQI"
   ]
  },
  {
   "cell_type": "markdown",
   "metadata": {},
   "source": [
    "Here I had to manually turn zip codes into neighborhoods. I did this beacuse the first data set we used was divided into neighborhoods, so I conformed this dataset to fit into that model for better comparisons of neighborhoods. Also, this dataset covered all of Alleegheny County, while we were focusing on neighorhoods of Pittsburgh."
   ]
  },
  {
   "cell_type": "code",
   "execution_count": 27,
   "metadata": {},
   "outputs": [],
   "source": [
    "Lawrenceville = np.array([15201])\n",
    "FlagPlaza = np.array([15219])\n",
    "Avalon = np.array([15202])\n",
    "Lincoln = np.array([15207])\n",
    "SouthFayette = np.array([15017, 15071, 15031, 15057, 15082, 15142, 15064, 15231])\n",
    "NorthBraddock = np.array([15104])\n",
    "ParkwayEast = np.array([15112])\n",
    "GlassportHighStreet = np.array([15045])\n",
    "Clairton = np.array([15025])\n",
    "WestMifflin = np.array([15034, 15236, 15122, 15123, 15207])\n",
    "# ^The ZIP Codes of each neighborhood"
   ]
  },
  {
   "cell_type": "markdown",
   "metadata": {},
   "source": [
    "These are some arrays, a dictionary and a list to make processing the data easier"
   ]
  },
  {
   "cell_type": "code",
   "execution_count": 28,
   "metadata": {},
   "outputs": [
    {
     "name": "stderr",
     "output_type": "stream",
     "text": [
      "<ipython-input-28-adea430a7e41>:1: VisibleDeprecationWarning: Creating an ndarray from ragged nested sequences (which is a list-or-tuple of lists-or-tuples-or ndarrays with different lengths or shapes) is deprecated. If you meant to do this, you must specify 'dtype=object' when creating the ndarray.\n",
      "  AllLocations = np.array([Lawrenceville, FlagPlaza, Avalon, Lincoln, SouthFayette, NorthBraddock, ParkwayEast, GlassportHighStreet, Clairton, WestMifflin])\n"
     ]
    }
   ],
   "source": [
    "AllLocations = np.array([Lawrenceville, FlagPlaza, Avalon, Lincoln, SouthFayette, NorthBraddock, ParkwayEast, GlassportHighStreet, Clairton, WestMifflin])\n",
    "# ^array of above arrays\n",
    "AllLocationsNames = np.array([\"Lawrenceville\", \"Flag Plaza\", \"Avalon\", \"Lincoln\", \"South Fayette\", \"North Braddock\", \"Parkway East\", \"Glassport High Street\", \"Clairton\", \"West Mifflin\"])\n",
    "# ^name of each array\n",
    "TotalLocations = {}\n",
    "#empty dictionary to display data\n",
    "zipCodeList = list(AQI.keys())\n",
    "#all the zip codes in the dataset moved into a list"
   ]
  },
  {
   "cell_type": "markdown",
   "metadata": {},
   "source": [
    "This is a nested loop. The inner loop checks if each zipcode is part of a neighborhood. If a zipcode is part of a neighborhood it adds the number of fast food restaurants in the zip code to the neighborhood total. The outer loop just moves to the next neighborhood so the process can be repeated."
   ]
  },
  {
   "cell_type": "code",
   "execution_count": 29,
   "metadata": {},
   "outputs": [
    {
     "data": {
      "text/plain": [
       "{'North Braddock': 0,\n",
       " 'Parkway East': 0,\n",
       " 'Lincoln': 1,\n",
       " 'Glassport High Street': 1,\n",
       " 'Clairton': 2,\n",
       " 'Lawrenceville': 5,\n",
       " 'Avalon': 13,\n",
       " 'Flag Plaza': 27,\n",
       " 'South Fayette': 33,\n",
       " 'West Mifflin': 49}"
      ]
     },
     "execution_count": 29,
     "metadata": {},
     "output_type": "execute_result"
    }
   ],
   "source": [
    "for i in range(len(AllLocations)):\n",
    "    for j in range(len(zipCodeList)):\n",
    "        if zipCodeList[j] in AllLocations[i]:\n",
    "            if AllLocationsNames[i] not in TotalLocations.keys():\n",
    "                TotalLocations[AllLocationsNames[i]] = AQI[zipCodeList[j]]\n",
    "            else:\n",
    "                TotalLocations[AllLocationsNames[i]] += AQI[zipCodeList[j]]\n",
    "\n",
    "for i in range(len(AllLocationsNames)):\n",
    "    if AllLocationsNames[i] not in TotalLocations.keys():\n",
    "        TotalLocations[AllLocationsNames[i]] = 0\n",
    "\n",
    "dict(sorted(TotalLocations.items(), key=lambda item: item[1]))"
   ]
  },
  {
   "cell_type": "markdown",
   "metadata": {},
   "source": [
    "Here we have a sorted list of each neighborhood and how many fast food restaurants they have. The higher vertically on the list, with a lower integer value is a healthier neighorhood, while lower vertically, with a higher integer value is a less healthy neighorhood. By this metric North Braddock and Parkway East are tied for healthiest neighorhood, while West Miffling stands alone as least healthy."
   ]
  },
  {
   "cell_type": "markdown",
   "metadata": {},
   "source": [
    "## Toxic Waste - Nathan"
   ]
  },
  {
   "cell_type": "code",
   "execution_count": null,
   "metadata": {},
   "outputs": [],
   "source": []
  },
  {
   "cell_type": "code",
   "execution_count": 30,
   "metadata": {},
   "outputs": [],
   "source": [
    "import pandas as pd\n",
    "import numpy as np\n",
    "%matplotlib inline\n",
    "import matplotlib.pyplot as plt\n"
   ]
  },
  {
   "cell_type": "markdown",
   "metadata": {},
   "source": [
    "While searching for a data set I found one that quantifies the amount of toxic is released into different enviornments. This is a good data set because it will help findout the most safe city to live in based off of the total toxic that is released. I will be focussing on the amount of toxic in the water and findout where the best place to live is based off of that. \n",
    "\n",
    "Link:\n",
    "https://data.wprdc.org/dataset/toxic-release-inventory/resource/c9baaa77-2dc5-494c-a2ce-f90db9106df2"
   ]
  },
  {
   "cell_type": "code",
   "execution_count": 31,
   "metadata": {},
   "outputs": [],
   "source": [
    "toxic = pd.read_csv(\"toxic.csv\")"
   ]
  },
  {
   "cell_type": "code",
   "execution_count": 32,
   "metadata": {},
   "outputs": [
    {
     "data": {
      "text/html": [
       "<div>\n",
       "<style scoped>\n",
       "    .dataframe tbody tr th:only-of-type {\n",
       "        vertical-align: middle;\n",
       "    }\n",
       "\n",
       "    .dataframe tbody tr th {\n",
       "        vertical-align: top;\n",
       "    }\n",
       "\n",
       "    .dataframe thead th {\n",
       "        text-align: right;\n",
       "    }\n",
       "</style>\n",
       "<table border=\"1\" class=\"dataframe\">\n",
       "  <thead>\n",
       "    <tr style=\"text-align: right;\">\n",
       "      <th></th>\n",
       "      <th>TRI_FACILITY_ID</th>\n",
       "      <th>DOC_CTRL_NUM</th>\n",
       "      <th>FACILITY_NAME</th>\n",
       "      <th>STREET_ADDRESS</th>\n",
       "      <th>CITY_NAME</th>\n",
       "      <th>COUNTY_NAME</th>\n",
       "      <th>STATE_COUNTY_FIPS_CODE</th>\n",
       "      <th>STATE_ABBR</th>\n",
       "      <th>ZIP_CODE</th>\n",
       "      <th>REGION</th>\n",
       "      <th>...</th>\n",
       "      <th>RELEASE_RANGE_CODE</th>\n",
       "      <th>TOTAL_RELEASE</th>\n",
       "      <th>REL_EST_AMT</th>\n",
       "      <th>RELEASE_NA</th>\n",
       "      <th>RELEASE_BASIS_EST_CODE</th>\n",
       "      <th>WATER_SEQUENCE_NUM</th>\n",
       "      <th>STREAM_NAME</th>\n",
       "      <th>STORM_WATER_NA</th>\n",
       "      <th>STORM_WATER_PERCENT</th>\n",
       "      <th>REACH_CODE</th>\n",
       "    </tr>\n",
       "  </thead>\n",
       "  <tbody>\n",
       "    <tr>\n",
       "      <th>0</th>\n",
       "      <td>15122SFTYK650NO</td>\n",
       "      <td>1309207547023</td>\n",
       "      <td>SAFETY-KLEEN SYSTEMS WEST MIFFLIN (WMP)</td>\n",
       "      <td>650 NOBLE DR</td>\n",
       "      <td>WEST MIFFLIN</td>\n",
       "      <td>ALLEGHENY</td>\n",
       "      <td>42003</td>\n",
       "      <td>PA</td>\n",
       "      <td>15122</td>\n",
       "      <td>3</td>\n",
       "      <td>...</td>\n",
       "      <td>NaN</td>\n",
       "      <td>NaN</td>\n",
       "      <td>0.0</td>\n",
       "      <td>1</td>\n",
       "      <td>NaN</td>\n",
       "      <td>1</td>\n",
       "      <td>NaN</td>\n",
       "      <td>0</td>\n",
       "      <td>NaN</td>\n",
       "      <td>NaN</td>\n",
       "    </tr>\n",
       "    <tr>\n",
       "      <th>1</th>\n",
       "      <td>15025SSCLR400ST</td>\n",
       "      <td>1307205668609</td>\n",
       "      <td>USS-CLAIRTON PLANT</td>\n",
       "      <td>400 STATE ST MS 71</td>\n",
       "      <td>CLAIRTON</td>\n",
       "      <td>ALLEGHENY</td>\n",
       "      <td>42003</td>\n",
       "      <td>PA</td>\n",
       "      <td>15025</td>\n",
       "      <td>3</td>\n",
       "      <td>...</td>\n",
       "      <td>NaN</td>\n",
       "      <td>2500000.0</td>\n",
       "      <td>2500000.0</td>\n",
       "      <td>0</td>\n",
       "      <td>M1</td>\n",
       "      <td>1</td>\n",
       "      <td>MONONGAHELA RIVER</td>\n",
       "      <td>1</td>\n",
       "      <td>NaN</td>\n",
       "      <td>NaN</td>\n",
       "    </tr>\n",
       "    <tr>\n",
       "      <th>2</th>\n",
       "      <td>15201XXNCM34THS</td>\n",
       "      <td>1394080093471</td>\n",
       "      <td>EXXON CO USA PITTSBURGH PLANT</td>\n",
       "      <td>100 35TH ST</td>\n",
       "      <td>PITTSBURGH</td>\n",
       "      <td>ALLEGHENY</td>\n",
       "      <td>42003</td>\n",
       "      <td>PA</td>\n",
       "      <td>15201</td>\n",
       "      <td>3</td>\n",
       "      <td>...</td>\n",
       "      <td>NaN</td>\n",
       "      <td>NaN</td>\n",
       "      <td>0.0</td>\n",
       "      <td>0</td>\n",
       "      <td>NaN</td>\n",
       "      <td>2</td>\n",
       "      <td>NaN</td>\n",
       "      <td>0</td>\n",
       "      <td>NaN</td>\n",
       "      <td>NaN</td>\n",
       "    </tr>\n",
       "    <tr>\n",
       "      <th>3</th>\n",
       "      <td>15226MTTHW1315W</td>\n",
       "      <td>1303201613510</td>\n",
       "      <td>MATTHEWS INTERNATIONAL CORP</td>\n",
       "      <td>1315 W LIBERTY AVE</td>\n",
       "      <td>PITTSBURGH</td>\n",
       "      <td>ALLEGHENY</td>\n",
       "      <td>42003</td>\n",
       "      <td>PA</td>\n",
       "      <td>15226</td>\n",
       "      <td>3</td>\n",
       "      <td>...</td>\n",
       "      <td>NaN</td>\n",
       "      <td>NaN</td>\n",
       "      <td>0.0</td>\n",
       "      <td>0</td>\n",
       "      <td>NaN</td>\n",
       "      <td>1</td>\n",
       "      <td>NaN</td>\n",
       "      <td>0</td>\n",
       "      <td>NaN</td>\n",
       "      <td>NaN</td>\n",
       "    </tr>\n",
       "    <tr>\n",
       "      <th>4</th>\n",
       "      <td>15051MRCNRSTATE</td>\n",
       "      <td>1395090491388</td>\n",
       "      <td>KINDER MORGAN TRANSMIX CO LLC</td>\n",
       "      <td>918 RT 910</td>\n",
       "      <td>INDIANOLA</td>\n",
       "      <td>ALLEGHENY</td>\n",
       "      <td>42003</td>\n",
       "      <td>PA</td>\n",
       "      <td>15051</td>\n",
       "      <td>3</td>\n",
       "      <td>...</td>\n",
       "      <td>NaN</td>\n",
       "      <td>7.0</td>\n",
       "      <td>7.0</td>\n",
       "      <td>0</td>\n",
       "      <td>O</td>\n",
       "      <td>1</td>\n",
       "      <td>DEER CREEK</td>\n",
       "      <td>1</td>\n",
       "      <td>NaN</td>\n",
       "      <td>NaN</td>\n",
       "    </tr>\n",
       "    <tr>\n",
       "      <th>5</th>\n",
       "      <td>15051MRCNRSTATE</td>\n",
       "      <td>1395090491388</td>\n",
       "      <td>KINDER MORGAN TRANSMIX CO LLC</td>\n",
       "      <td>918 RT 910</td>\n",
       "      <td>INDIANOLA</td>\n",
       "      <td>ALLEGHENY</td>\n",
       "      <td>42003</td>\n",
       "      <td>PA</td>\n",
       "      <td>15051</td>\n",
       "      <td>3</td>\n",
       "      <td>...</td>\n",
       "      <td>NaN</td>\n",
       "      <td>NaN</td>\n",
       "      <td>0.0</td>\n",
       "      <td>0</td>\n",
       "      <td>NaN</td>\n",
       "      <td>2</td>\n",
       "      <td>NaN</td>\n",
       "      <td>0</td>\n",
       "      <td>NaN</td>\n",
       "      <td>NaN</td>\n",
       "    </tr>\n",
       "    <tr>\n",
       "      <th>6</th>\n",
       "      <td>15017GNRLLMAYER</td>\n",
       "      <td>1301150384737</td>\n",
       "      <td>GE CO. BRIDGEVILLE GLASS PLANT</td>\n",
       "      <td>540 MAYER ST</td>\n",
       "      <td>BRIDGEVILLE</td>\n",
       "      <td>ALLEGHENY</td>\n",
       "      <td>42003</td>\n",
       "      <td>PA</td>\n",
       "      <td>15017</td>\n",
       "      <td>3</td>\n",
       "      <td>...</td>\n",
       "      <td>NaN</td>\n",
       "      <td>23.0</td>\n",
       "      <td>23.0</td>\n",
       "      <td>0</td>\n",
       "      <td>M</td>\n",
       "      <td>1</td>\n",
       "      <td>CHARTIERS CREEK</td>\n",
       "      <td>0</td>\n",
       "      <td>100.0</td>\n",
       "      <td>NaN</td>\n",
       "    </tr>\n",
       "    <tr>\n",
       "      <th>7</th>\n",
       "      <td>15025RSTCH400ST</td>\n",
       "      <td>1389035122670</td>\n",
       "      <td>KOPPERS INC CLAIRTON TAR PLANT</td>\n",
       "      <td>300 N STATE ST</td>\n",
       "      <td>CLAIRTON</td>\n",
       "      <td>ALLEGHENY</td>\n",
       "      <td>42003</td>\n",
       "      <td>PA</td>\n",
       "      <td>15025</td>\n",
       "      <td>3</td>\n",
       "      <td>...</td>\n",
       "      <td>NaN</td>\n",
       "      <td>NaN</td>\n",
       "      <td>0.0</td>\n",
       "      <td>1</td>\n",
       "      <td>NaN</td>\n",
       "      <td>3</td>\n",
       "      <td>NaN</td>\n",
       "      <td>0</td>\n",
       "      <td>NaN</td>\n",
       "      <td>NaN</td>\n",
       "    </tr>\n",
       "    <tr>\n",
       "      <th>8</th>\n",
       "      <td>15025RSTCH400ST</td>\n",
       "      <td>1389035122744</td>\n",
       "      <td>KOPPERS INC CLAIRTON TAR PLANT</td>\n",
       "      <td>300 N STATE ST</td>\n",
       "      <td>CLAIRTON</td>\n",
       "      <td>ALLEGHENY</td>\n",
       "      <td>42003</td>\n",
       "      <td>PA</td>\n",
       "      <td>15025</td>\n",
       "      <td>3</td>\n",
       "      <td>...</td>\n",
       "      <td>NaN</td>\n",
       "      <td>0.0</td>\n",
       "      <td>0.0</td>\n",
       "      <td>0</td>\n",
       "      <td>O</td>\n",
       "      <td>1</td>\n",
       "      <td>PETERS CREEK</td>\n",
       "      <td>0</td>\n",
       "      <td>NaN</td>\n",
       "      <td>NaN</td>\n",
       "    </tr>\n",
       "    <tr>\n",
       "      <th>9</th>\n",
       "      <td>15116BLLCH1114W</td>\n",
       "      <td>1392065371407</td>\n",
       "      <td>RANBAR TECHNOLOGY INC</td>\n",
       "      <td>1114 WILLIAM FLINN HWY</td>\n",
       "      <td>GLENSHAW</td>\n",
       "      <td>ALLEGHENY</td>\n",
       "      <td>42003</td>\n",
       "      <td>PA</td>\n",
       "      <td>15116</td>\n",
       "      <td>3</td>\n",
       "      <td>...</td>\n",
       "      <td>NaN</td>\n",
       "      <td>NaN</td>\n",
       "      <td>0.0</td>\n",
       "      <td>0</td>\n",
       "      <td>NaN</td>\n",
       "      <td>1</td>\n",
       "      <td>NaN</td>\n",
       "      <td>0</td>\n",
       "      <td>NaN</td>\n",
       "      <td>NaN</td>\n",
       "    </tr>\n",
       "  </tbody>\n",
       "</table>\n",
       "<p>10 rows × 43 columns</p>\n",
       "</div>"
      ],
      "text/plain": [
       "   TRI_FACILITY_ID   DOC_CTRL_NUM                            FACILITY_NAME  \\\n",
       "0  15122SFTYK650NO  1309207547023  SAFETY-KLEEN SYSTEMS WEST MIFFLIN (WMP)   \n",
       "1  15025SSCLR400ST  1307205668609                       USS-CLAIRTON PLANT   \n",
       "2  15201XXNCM34THS  1394080093471            EXXON CO USA PITTSBURGH PLANT   \n",
       "3  15226MTTHW1315W  1303201613510              MATTHEWS INTERNATIONAL CORP   \n",
       "4  15051MRCNRSTATE  1395090491388            KINDER MORGAN TRANSMIX CO LLC   \n",
       "5  15051MRCNRSTATE  1395090491388            KINDER MORGAN TRANSMIX CO LLC   \n",
       "6  15017GNRLLMAYER  1301150384737           GE CO. BRIDGEVILLE GLASS PLANT   \n",
       "7  15025RSTCH400ST  1389035122670           KOPPERS INC CLAIRTON TAR PLANT   \n",
       "8  15025RSTCH400ST  1389035122744           KOPPERS INC CLAIRTON TAR PLANT   \n",
       "9  15116BLLCH1114W  1392065371407                    RANBAR TECHNOLOGY INC   \n",
       "\n",
       "           STREET_ADDRESS     CITY_NAME COUNTY_NAME  STATE_COUNTY_FIPS_CODE  \\\n",
       "0            650 NOBLE DR  WEST MIFFLIN   ALLEGHENY                   42003   \n",
       "1      400 STATE ST MS 71      CLAIRTON   ALLEGHENY                   42003   \n",
       "2             100 35TH ST    PITTSBURGH   ALLEGHENY                   42003   \n",
       "3      1315 W LIBERTY AVE    PITTSBURGH   ALLEGHENY                   42003   \n",
       "4              918 RT 910     INDIANOLA   ALLEGHENY                   42003   \n",
       "5              918 RT 910     INDIANOLA   ALLEGHENY                   42003   \n",
       "6            540 MAYER ST   BRIDGEVILLE   ALLEGHENY                   42003   \n",
       "7          300 N STATE ST      CLAIRTON   ALLEGHENY                   42003   \n",
       "8          300 N STATE ST      CLAIRTON   ALLEGHENY                   42003   \n",
       "9  1114 WILLIAM FLINN HWY      GLENSHAW   ALLEGHENY                   42003   \n",
       "\n",
       "  STATE_ABBR  ZIP_CODE  REGION  ...  RELEASE_RANGE_CODE TOTAL_RELEASE  \\\n",
       "0         PA     15122       3  ...                 NaN           NaN   \n",
       "1         PA     15025       3  ...                 NaN     2500000.0   \n",
       "2         PA     15201       3  ...                 NaN           NaN   \n",
       "3         PA     15226       3  ...                 NaN           NaN   \n",
       "4         PA     15051       3  ...                 NaN           7.0   \n",
       "5         PA     15051       3  ...                 NaN           NaN   \n",
       "6         PA     15017       3  ...                 NaN          23.0   \n",
       "7         PA     15025       3  ...                 NaN           NaN   \n",
       "8         PA     15025       3  ...                 NaN           0.0   \n",
       "9         PA     15116       3  ...                 NaN           NaN   \n",
       "\n",
       "   REL_EST_AMT RELEASE_NA RELEASE_BASIS_EST_CODE WATER_SEQUENCE_NUM  \\\n",
       "0          0.0          1                    NaN                  1   \n",
       "1    2500000.0          0                     M1                  1   \n",
       "2          0.0          0                    NaN                  2   \n",
       "3          0.0          0                    NaN                  1   \n",
       "4          7.0          0                      O                  1   \n",
       "5          0.0          0                    NaN                  2   \n",
       "6         23.0          0                      M                  1   \n",
       "7          0.0          1                    NaN                  3   \n",
       "8          0.0          0                      O                  1   \n",
       "9          0.0          0                    NaN                  1   \n",
       "\n",
       "         STREAM_NAME  STORM_WATER_NA  STORM_WATER_PERCENT REACH_CODE  \n",
       "0                NaN               0                  NaN        NaN  \n",
       "1  MONONGAHELA RIVER               1                  NaN        NaN  \n",
       "2                NaN               0                  NaN        NaN  \n",
       "3                NaN               0                  NaN        NaN  \n",
       "4         DEER CREEK               1                  NaN        NaN  \n",
       "5                NaN               0                  NaN        NaN  \n",
       "6    CHARTIERS CREEK               0                100.0        NaN  \n",
       "7                NaN               0                  NaN        NaN  \n",
       "8       PETERS CREEK               0                  NaN        NaN  \n",
       "9                NaN               0                  NaN        NaN  \n",
       "\n",
       "[10 rows x 43 columns]"
      ]
     },
     "execution_count": 32,
     "metadata": {},
     "output_type": "execute_result"
    }
   ],
   "source": [
    "toxic.head(10)"
   ]
  },
  {
   "cell_type": "code",
   "execution_count": 33,
   "metadata": {},
   "outputs": [
    {
     "data": {
      "text/plain": [
       "13395.222815396719"
      ]
     },
     "execution_count": 33,
     "metadata": {},
     "output_type": "execute_result"
    }
   ],
   "source": [
    "toxic[\"TOTAL_RELEASE\"].mean()"
   ]
  },
  {
   "cell_type": "code",
   "execution_count": 34,
   "metadata": {},
   "outputs": [
    {
     "name": "stdout",
     "output_type": "stream",
     "text": [
      "There are 48 unique cities that were recorded\n"
     ]
    }
   ],
   "source": [
    "n = 0\n",
    "uniq = toxic['CITY_NAME'].unique()\n",
    "for a in uniq:\n",
    "    n = n + 1\n",
    "n = str(n)\n",
    "print(\"There are \" + n + \" unique cities that were recorded\")"
   ]
  },
  {
   "cell_type": "code",
   "execution_count": 35,
   "metadata": {},
   "outputs": [
    {
     "data": {
      "text/plain": [
       "{'WEST MIFFLIN': 470,\n",
       " 'CLAIRTON': 1829,\n",
       " 'PITTSBURGH': 4920,\n",
       " 'INDIANOLA': 353,\n",
       " 'BRIDGEVILLE': 737,\n",
       " 'GLENSHAW': 183,\n",
       " 'LEETSDALE': 228,\n",
       " 'BRACKENRIDGE': 531,\n",
       " 'CARNEGIE': 228,\n",
       " 'SPRINGDALE': 1371,\n",
       " 'WEST ELIZABETH': 525,\n",
       " 'DUQUESNE': 54,\n",
       " 'CHESWICK': 75,\n",
       " 'BRADDOCK': 680,\n",
       " 'TURTLE CREEK': 82,\n",
       " 'OAKMONT': 185,\n",
       " 'MONROEVILLE': 108,\n",
       " 'MUNHALL': 154,\n",
       " 'MC KEESPORT': 327,\n",
       " 'SOUTH PARK': 2,\n",
       " 'CORAOPOLIS': 363,\n",
       " 'MC KEES ROCKS': 163,\n",
       " 'SEWICKLEY': 171,\n",
       " 'CREIGHTON': 113,\n",
       " 'VERONA': 120,\n",
       " 'EAST PITTSBURGH': 36,\n",
       " 'HARWICK': 314,\n",
       " 'JEFFERSON HILLS': 146,\n",
       " 'WILMERDING': 78,\n",
       " 'BAKERSTOWN': 91,\n",
       " 'OAKDALE': 124,\n",
       " 'NATRONA HEIGHTS': 172,\n",
       " 'HOMESTEAD': 46,\n",
       " 'MC DONALD': 95,\n",
       " 'HEIDELBERG': 37,\n",
       " 'BUNOLA': 120,\n",
       " 'GIBSONIA': 71,\n",
       " 'MCKEESPORT': 33,\n",
       " 'SHARPSBURG': 6,\n",
       " 'TARENTUM': 3,\n",
       " 'GLASSPORT': 55,\n",
       " 'CLINTON': 12,\n",
       " 'RANKIN': 19,\n",
       " 'LIBERTY BOROUGH': 19,\n",
       " 'DRAVOSBURG': 7,\n",
       " 'NEVILLE ISLAND': 5,\n",
       " 'MONONGAHELA': 1,\n",
       " 'BLAWNOX': 10}"
      ]
     },
     "execution_count": 35,
     "metadata": {},
     "output_type": "execute_result"
    }
   ],
   "source": [
    "toxicC = {}\n",
    "n=0\n",
    "n1=0\n",
    "n2=1\n",
    "for row in toxic.iterrows():\n",
    "    n1 = toxic.iloc[n,4] \n",
    "    if n1 not in toxicC:\n",
    "        toxicC[n1] = n2\n",
    "    elif n1 in toxicC:\n",
    "        toxicC[n1] = toxicC[n1] + n2\n",
    "    n = n+1\n",
    "\n",
    "toxicC"
   ]
  },
  {
   "cell_type": "markdown",
   "metadata": {},
   "source": [
    "The most recorded city is very easily Pittsburgh which is recorded almost 5 thousand times. Where as the least recorded are places like Tarentum, Nevile Island, or Monogahela that are not even counted in the double digits. This is a huge range in the number of places recorded however because I will be taking the average later that differences importance will decrease. I would entirely take out these data points but for the sake of finding the best city I think it is necesary to use every single data point that I hae available so I will still be using these cities. At the end if these data points are outliars I will say so then and recognize this as one possible reason. "
   ]
  },
  {
   "cell_type": "code",
   "execution_count": 36,
   "metadata": {},
   "outputs": [
    {
     "data": {
      "text/plain": [
       "{'WEST MIFFLIN': 488905.77999999997,\n",
       " 'CLAIRTON': 47010225.57000003,\n",
       " 'PITTSBURGH': 2453163.460000001,\n",
       " 'INDIANOLA': 1537.5500000000002,\n",
       " 'BRIDGEVILLE': 5168.189999999999,\n",
       " 'GLENSHAW': 0.0,\n",
       " 'LEETSDALE': 54784.14000000001,\n",
       " 'BRACKENRIDGE': 8437507.0,\n",
       " 'CARNEGIE': 812.0,\n",
       " 'SPRINGDALE': 29612.1857,\n",
       " 'WEST ELIZABETH': 15861.84,\n",
       " 'DUQUESNE': 0.0,\n",
       " 'CHESWICK': 0.0,\n",
       " 'BRADDOCK': 1095193.9900000002,\n",
       " 'TURTLE CREEK': 0.0,\n",
       " 'OAKMONT': 524.0,\n",
       " 'MONROEVILLE': 0.0,\n",
       " 'MUNHALL': 0,\n",
       " 'MC KEESPORT': 0.0,\n",
       " 'SOUTH PARK': 0,\n",
       " 'CORAOPOLIS': 1438.3000000000002,\n",
       " 'MC KEES ROCKS': 0.0,\n",
       " 'SEWICKLEY': 500.0,\n",
       " 'CREIGHTON': 0.0,\n",
       " 'VERONA': 0.0,\n",
       " 'EAST PITTSBURGH': 0,\n",
       " 'HARWICK': 0,\n",
       " 'JEFFERSON HILLS': 2.3,\n",
       " 'WILMERDING': 0.0,\n",
       " 'BAKERSTOWN': 0.0,\n",
       " 'OAKDALE': 0,\n",
       " 'NATRONA HEIGHTS': 0,\n",
       " 'HOMESTEAD': 110.0,\n",
       " 'MC DONALD': 0,\n",
       " 'HEIDELBERG': 0.0,\n",
       " 'BUNOLA': 0.0,\n",
       " 'GIBSONIA': 0,\n",
       " 'MCKEESPORT': 0.0,\n",
       " 'SHARPSBURG': 0,\n",
       " 'TARENTUM': 0,\n",
       " 'GLASSPORT': 0,\n",
       " 'CLINTON': 0,\n",
       " 'RANKIN': 0,\n",
       " 'LIBERTY BOROUGH': 0.0,\n",
       " 'DRAVOSBURG': 0.0,\n",
       " 'NEVILLE ISLAND': 0,\n",
       " 'MONONGAHELA': 0,\n",
       " 'BLAWNOX': 0}"
      ]
     },
     "execution_count": 36,
     "metadata": {},
     "output_type": "execute_result"
    }
   ],
   "source": [
    "import math\n",
    "toxicA = {}\n",
    "n=0\n",
    "n1=0\n",
    "n2=0\n",
    "for row in toxic.iterrows():\n",
    "    n1 = toxic.iloc[n,4]\n",
    "    n2 = toxic.iloc[n,34]\n",
    "    if math.isnan(n2):\n",
    "        n2 = 0\n",
    "    if n1 not in toxicA:\n",
    "        toxicA[n1] = n2\n",
    "    elif n1 in toxicA:\n",
    "        toxicA[n1] = toxicA[n1] + n2\n",
    "    n = n+1\n",
    "toxicA    \n",
    "\n"
   ]
  },
  {
   "cell_type": "code",
   "execution_count": 37,
   "metadata": {},
   "outputs": [],
   "source": [
    "aveTox = dict((k, float(toxicA[k]) / toxicC[k]) for k in toxicC)\n",
    "\n",
    "\n"
   ]
  },
  {
   "cell_type": "code",
   "execution_count": 38,
   "metadata": {},
   "outputs": [],
   "source": [
    "toxPlot = pd.Series(aveTox)\n"
   ]
  },
  {
   "cell_type": "code",
   "execution_count": 39,
   "metadata": {},
   "outputs": [
    {
     "data": {
      "text/plain": [
       "WEST MIFFLIN        1040.225064\n",
       "CLAIRTON           25702.693040\n",
       "PITTSBURGH           498.610459\n",
       "INDIANOLA              4.355666\n",
       "BRIDGEVILLE            7.012469\n",
       "GLENSHAW               0.000000\n",
       "LEETSDALE            240.281316\n",
       "BRACKENRIDGE       15889.843691\n",
       "CARNEGIE               3.561404\n",
       "SPRINGDALE            21.598968\n",
       "WEST ELIZABETH        30.213029\n",
       "DUQUESNE               0.000000\n",
       "CHESWICK               0.000000\n",
       "BRADDOCK            1610.579397\n",
       "TURTLE CREEK           0.000000\n",
       "OAKMONT                2.832432\n",
       "MONROEVILLE            0.000000\n",
       "MUNHALL                0.000000\n",
       "MC KEESPORT            0.000000\n",
       "SOUTH PARK             0.000000\n",
       "CORAOPOLIS             3.962259\n",
       "MC KEES ROCKS          0.000000\n",
       "SEWICKLEY              2.923977\n",
       "CREIGHTON              0.000000\n",
       "VERONA                 0.000000\n",
       "EAST PITTSBURGH        0.000000\n",
       "HARWICK                0.000000\n",
       "JEFFERSON HILLS        0.015753\n",
       "WILMERDING             0.000000\n",
       "BAKERSTOWN             0.000000\n",
       "OAKDALE                0.000000\n",
       "NATRONA HEIGHTS        0.000000\n",
       "HOMESTEAD              2.391304\n",
       "MC DONALD              0.000000\n",
       "HEIDELBERG             0.000000\n",
       "BUNOLA                 0.000000\n",
       "GIBSONIA               0.000000\n",
       "MCKEESPORT             0.000000\n",
       "SHARPSBURG             0.000000\n",
       "TARENTUM               0.000000\n",
       "GLASSPORT              0.000000\n",
       "CLINTON                0.000000\n",
       "RANKIN                 0.000000\n",
       "LIBERTY BOROUGH        0.000000\n",
       "DRAVOSBURG             0.000000\n",
       "NEVILLE ISLAND         0.000000\n",
       "MONONGAHELA            0.000000\n",
       "BLAWNOX                0.000000\n",
       "dtype: float64"
      ]
     },
     "execution_count": 39,
     "metadata": {},
     "output_type": "execute_result"
    }
   ],
   "source": [
    "toxPlot"
   ]
  },
  {
   "cell_type": "code",
   "execution_count": 40,
   "metadata": {},
   "outputs": [
    {
     "data": {
      "text/plain": [
       "<matplotlib.axes._subplots.AxesSubplot at 0x7f3c3db55580>"
      ]
     },
     "execution_count": 40,
     "metadata": {},
     "output_type": "execute_result"
    },
    {
     "data": {
      "image/png": "[encoded data removed]",
      "text/plain": [
       "<Figure size 432x288 with 1 Axes>"
      ]
     },
     "metadata": {
      "needs_background": "light"
     },
     "output_type": "display_data"
    }
   ],
   "source": [
    "toxPlot.plot(kind = 'bar')"
   ]
  },
  {
   "cell_type": "markdown",
   "metadata": {},
   "source": [
    "There are too many data points for this graph to be clear, because of this I will remove all the data points with 0 as the result because thats the most common result along with being the goal for this index. Therefore all those with 0 as the result are the cleanest however because of the amount of them I will now be finding the next best city"
   ]
  },
  {
   "cell_type": "code",
   "execution_count": 41,
   "metadata": {},
   "outputs": [
    {
     "data": {
      "text/plain": [
       "{'WEST MIFFLIN': 1040.2250638297871,\n",
       " 'CLAIRTON': 25702.693039912538,\n",
       " 'PITTSBURGH': 498.61045934959367,\n",
       " 'INDIANOLA': 4.355665722379604,\n",
       " 'BRIDGEVILLE': 7.012469470827678,\n",
       " 'LEETSDALE': 240.28131578947372,\n",
       " 'BRACKENRIDGE': 15889.843691148775,\n",
       " 'CARNEGIE': 3.56140350877193,\n",
       " 'SPRINGDALE': 21.598968417213715,\n",
       " 'WEST ELIZABETH': 30.213028571428573,\n",
       " 'BRADDOCK': 1610.5793970588238,\n",
       " 'OAKMONT': 2.8324324324324324,\n",
       " 'CORAOPOLIS': 3.9622589531680448,\n",
       " 'SEWICKLEY': 2.9239766081871346,\n",
       " 'JEFFERSON HILLS': 0.015753424657534244,\n",
       " 'HOMESTEAD': 2.391304347826087}"
      ]
     },
     "execution_count": 41,
     "metadata": {},
     "output_type": "execute_result"
    }
   ],
   "source": [
    "delete = []\n",
    "for row in aveTox:\n",
    "    if aveTox[row] == 0:\n",
    "        delete.append(row)\n",
    "for row in delete:\n",
    "    del aveTox[row]\n",
    "\n",
    "aveTox"
   ]
  },
  {
   "cell_type": "code",
   "execution_count": 42,
   "metadata": {},
   "outputs": [],
   "source": [
    "toxPlot2 = pd.Series(aveTox)"
   ]
  },
  {
   "cell_type": "code",
   "execution_count": 43,
   "metadata": {},
   "outputs": [
    {
     "data": {
      "text/plain": [
       "WEST MIFFLIN        1040.225064\n",
       "CLAIRTON           25702.693040\n",
       "PITTSBURGH           498.610459\n",
       "INDIANOLA              4.355666\n",
       "BRIDGEVILLE            7.012469\n",
       "LEETSDALE            240.281316\n",
       "BRACKENRIDGE       15889.843691\n",
       "CARNEGIE               3.561404\n",
       "SPRINGDALE            21.598968\n",
       "WEST ELIZABETH        30.213029\n",
       "BRADDOCK            1610.579397\n",
       "OAKMONT                2.832432\n",
       "CORAOPOLIS             3.962259\n",
       "SEWICKLEY              2.923977\n",
       "JEFFERSON HILLS        0.015753\n",
       "HOMESTEAD              2.391304\n",
       "dtype: float64"
      ]
     },
     "execution_count": 43,
     "metadata": {},
     "output_type": "execute_result"
    }
   ],
   "source": [
    "toxPlot2"
   ]
  },
  {
   "cell_type": "code",
   "execution_count": 44,
   "metadata": {},
   "outputs": [
    {
     "data": {
      "text/plain": [
       "<matplotlib.axes._subplots.AxesSubplot at 0x7f3c3cb5f370>"
      ]
     },
     "execution_count": 44,
     "metadata": {},
     "output_type": "execute_result"
    },
    {
     "data": {
      "image/png": "[encoded data removed]",
      "text/plain": [
       "<Figure size 432x288 with 1 Axes>"
      ]
     },
     "metadata": {
      "needs_background": "light"
     },
     "output_type": "display_data"
    }
   ],
   "source": [
    "toxPlot2.plot(kind = 'bar')"
   ]
  },
  {
   "cell_type": "markdown",
   "metadata": {},
   "source": [
    "Because of these two massive outliars its skewing the graph massively making most of the other data points look like nothing. These two data points are also the only two data points above the average therefore they are obviously not the best in the amount of toxic released"
   ]
  },
  {
   "cell_type": "code",
   "execution_count": 45,
   "metadata": {},
   "outputs": [],
   "source": [
    "del aveTox['CLAIRTON']\n",
    "del aveTox['BRACKENRIDGE']"
   ]
  },
  {
   "cell_type": "code",
   "execution_count": 46,
   "metadata": {},
   "outputs": [
    {
     "data": {
      "text/plain": [
       "{'WEST MIFFLIN': 1040.2250638297871,\n",
       " 'PITTSBURGH': 498.61045934959367,\n",
       " 'INDIANOLA': 4.355665722379604,\n",
       " 'BRIDGEVILLE': 7.012469470827678,\n",
       " 'LEETSDALE': 240.28131578947372,\n",
       " 'CARNEGIE': 3.56140350877193,\n",
       " 'SPRINGDALE': 21.598968417213715,\n",
       " 'WEST ELIZABETH': 30.213028571428573,\n",
       " 'BRADDOCK': 1610.5793970588238,\n",
       " 'OAKMONT': 2.8324324324324324,\n",
       " 'CORAOPOLIS': 3.9622589531680448,\n",
       " 'SEWICKLEY': 2.9239766081871346,\n",
       " 'JEFFERSON HILLS': 0.015753424657534244,\n",
       " 'HOMESTEAD': 2.391304347826087}"
      ]
     },
     "execution_count": 46,
     "metadata": {},
     "output_type": "execute_result"
    }
   ],
   "source": [
    "aveTox"
   ]
  },
  {
   "cell_type": "code",
   "execution_count": 47,
   "metadata": {},
   "outputs": [],
   "source": [
    "toxPlot3 = pd.Series(aveTox)"
   ]
  },
  {
   "cell_type": "code",
   "execution_count": 48,
   "metadata": {},
   "outputs": [
    {
     "data": {
      "text/plain": [
       "WEST MIFFLIN       1040.225064\n",
       "PITTSBURGH          498.610459\n",
       "INDIANOLA             4.355666\n",
       "BRIDGEVILLE           7.012469\n",
       "LEETSDALE           240.281316\n",
       "CARNEGIE              3.561404\n",
       "SPRINGDALE           21.598968\n",
       "WEST ELIZABETH       30.213029\n",
       "BRADDOCK           1610.579397\n",
       "OAKMONT               2.832432\n",
       "CORAOPOLIS            3.962259\n",
       "SEWICKLEY             2.923977\n",
       "JEFFERSON HILLS       0.015753\n",
       "HOMESTEAD             2.391304\n",
       "dtype: float64"
      ]
     },
     "execution_count": 48,
     "metadata": {},
     "output_type": "execute_result"
    }
   ],
   "source": [
    "toxPlot3"
   ]
  },
  {
   "cell_type": "code",
   "execution_count": 49,
   "metadata": {},
   "outputs": [
    {
     "data": {
      "text/plain": [
       "Text(0, 0.5, 'Total Released on ')"
      ]
     },
     "execution_count": 49,
     "metadata": {},
     "output_type": "execute_result"
    },
    {
     "data": {
      "image/png": "[encoded data removed]",
      "text/plain": [
       "<Figure size 432x288 with 1 Axes>"
      ]
     },
     "metadata": {
      "needs_background": "light"
     },
     "output_type": "display_data"
    }
   ],
   "source": [
    "toxPlot3.plot(kind = 'bar')\n",
    "plt.title(\"Toxin Released in Water Comparison\")\n",
    "plt.xlabel(\"Cities\")\n",
    "plt.ylabel(\"Total Released on \")"
   ]
  },
  {
   "cell_type": "markdown",
   "metadata": {},
   "source": [
    "## Combining the Submetrics"
   ]
  },
  {
   "cell_type": "markdown",
   "metadata": {},
   "source": [
    "The only neighborhoods that appear in all of our datasets are West Mifflin, Clairton, and Braddock. We are gonna take the average rank of those three neighborhoods across our three datasets, and the highest ranks is crowned the healthiest neighborhood to live in.\n",
    "\n",
    "For the Air Quality Index, here are the rankings: 1. West Mifflin, 2. Braddock, 8. Clairton\n",
    "\n",
    "For the Fast Food Locations, here are the rankings: 1. Braddock, 3. Clairton, 7. West Mifflin\n",
    "\n",
    "For the Toxic Waste Dumped, here are the rankings: 14. West Mifflin, 15. Braddock, 16. Clairton\n",
    "\n",
    "West Mifflin scored an average 7.333 rank\n",
    "\n",
    "Braddock scored an average 6 rank\n",
    "\n",
    "Clairton scored an average 9 rank\n",
    "\n",
    "Braddock scored the highest average rank across all three of our metrics, crowning it as the healthiest neighborhood to live in in allegheny county.\n",
    "\n",
    "Honorable mention:\n",
    "Jefferson Hills had the lowest amount of toxic waste dumped into the water in Allegheny County. This Neighborhood could have had a chance at winning if it appeared in the other two datasets.\n"
   ]
  },
  {
   "cell_type": "markdown",
   "metadata": {},
   "source": [
    "# Conclusion\n",
    "\n",
    "Hamza (Air Quality Index) - First of all, I wasn't surprised that pittsburgh was one of the worst places to live in regarding Air Quality. It was known as the \"steel city\" after all. All of those factories contributed to making the air in this area overall bad. As to the other side of the spectrum, I've never been to West Mifflin so I can't say I would wanna live there just based of it having the best air quality, but that is definitely something to take note of when thinking of that neighborhood.\n",
    "\n",
    "Christian (Fast Food Locations) - According to the data in the bar graph, the best neighborhoods to live in based on my metric were Braddock and Parkway Easy, each with no fast food restaurants. In this situation Lincoln is the honorable mention with only one fast food restaurant. These neighborhoods rank highly on my metric because they have a low number of fast food restaurants. If there are less fast food restaurants near you, you are less likely to go to one, and therefore more likely to make a healthy eating decision. In my personal opinion, I would prefer the opposite. I’m not someone tempted by fast food restaurants, and I only eat fast food on occasion. Because I don’t frequent fast food restaurants, when I do go to one I want there to be many options near me. Therefore my personal favorite neighborhood is West Mifflin with forty nine fast food restaurants. My logic here is that more fast food restaurants means more diversity, and therefore more options.\n",
    "\n",
    "Nathan (Toxic Waste Dumped) - After eliminating the cities with an average of 0 because of the lack of data points it leaves us with only 16 cities left. Out of these 16 cities Jefferson Hills is easily has the cleanest water with only 0.016 pounds of toxic materials going into their water with significantly less than the second cleanest in Homestead that has 2.39 pounds"
   ]
  },
  {
   "cell_type": "code",
   "execution_count": null,
   "metadata": {},
   "outputs": [],
   "source": []
  }
 ],
 "metadata": {
  "kernelspec": {
   "display_name": "Python 3",
   "language": "python",
   "name": "python3"
  },
  "language_info": {
   "codemirror_mode": {
    "name": "ipython",
    "version": 3
   },
   "file_extension": ".py",
   "mimetype": "text/x-python",
   "name": "python",
   "nbconvert_exporter": "python",
   "pygments_lexer": "ipython3",
   "version": "3.8.3"
  }
 },
 "nbformat": 4,
 "nbformat_minor": 4
}
